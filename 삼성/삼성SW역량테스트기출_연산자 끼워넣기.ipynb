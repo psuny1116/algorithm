{
 "cells": [
  {
   "cell_type": "markdown",
   "metadata": {},
   "source": [
    "# 입력: sys.stdin.readline()\n",
    "* 파이썬에서 기본 입력은 input()을 사용하지만 백준에서는 시간 초과가 발생할 수 있음<br>\n",
    "* 특히 반복 입력의 경우 시간 단축을 위해 sys.stdin.readline()을 사용(import sys)<br>\n",
    "* 입력 시 \\n(개행문자)가 함께 입력되기 때문에 split()을 사용하여 삭제<br>\n",
    "\n",
    "* 주피터노트북에서는 이 코드가 실행 안됨. 주피터노트북에서는 input() 사용<br>"
   ]
  },
  {
   "cell_type": "markdown",
   "metadata": {},
   "source": [
    "# 연산자 끼워넣기\n",
    "\n",
    "## 문제\n",
    "N개의 수로 이루어진 수열 A1, A2, ..., AN이 주어진다.<br>\n",
    "또, 수와 수 사이에 끼워넣을 수 있는 N-1개의 연산자가 주어진다. 연산자는 덧셈(+), 뺄셈(-), 곱셈(×), 나눗셈(÷)으로만 이루어져 있다.<br>\n",
    "\n",
    "우리는 수와 수 사이에 연산자를 하나씩 넣어서, 수식을 하나 만들 수 있다. 이때, 주어진 수의 순서를 바꾸면 안 된다.<br>\n",
    "\n",
    "예를 들어, 6개의 수로 이루어진 수열이 1, 2, 3, 4, 5, 6이고, 주어진 연산자가 덧셈(+) 2개, 뺄셈(-) 1개, 곱셈(×) 1개, 나눗셈(÷) 1개인 경우에는 총 60가지의 식을 만들 수 있다.<br>\n",
    "예를 들어, 아래와 같은 식을 만들 수 있다.<br>\n",
    "\n",
    "1+2+3-4×5÷6<br>\n",
    "1÷2+3+4-5×6<br>\n",
    "1+2÷3×4-5+6<br>\n",
    "1÷2×3-4+5+6<br>\n",
    "식의 계산은 연산자 우선 순위를 무시하고 앞에서부터 진행해야 한다.<br>\n",
    "또, 나눗셈은 정수 나눗셈으로 몫만 취한다. 음수를 양수로 나눌 때는 C++14의 기준을 따른다.<br>\n",
    "즉, 양수로 바꾼 뒤 몫을 취하고, 그 몫을 음수로 바꾼 것과 같다. 이에 따라서, 위의 식 4개의 결과를 계산해보면 아래와 같다.<br>\n",
    "\n",
    "1+2+3-4×5÷6 = 1<br>\n",
    "1÷2+3+4-5×6 = 12<br>\n",
    "1+2÷3×4-5+6 = 5<br>\n",
    "1÷2×3-4+5+6 = 7<br>\n",
    "N개의 수와 N-1개의 연산자가 주어졌을 때, 만들 수 있는 식의 결과가 최대인 것과 최소인 것을 구하는 프로그램을 작성하시오.<br>\n",
    "\n",
    "## 입력\n",
    "첫째 줄에 수의 개수 N(2 ≤ N ≤ 11)가 주어진다.<br>\n",
    "둘째 줄에는 A1, A2, ..., AN이 주어진다. (1 ≤ Ai ≤ 100) 셋째 줄에는 합이 N-1인 4개의 정수가 주어지는데, 차례대로 덧셈(+)의 개수, 뺄셈(-)의 개수, 곱셈(×)의 개수, 나눗셈(÷)의 개수이다. <br>\n",
    "\n",
    "## 출력\n",
    "첫째 줄에 만들 수 있는 식의 결과의 최댓값을, 둘째 줄에는 최솟값을 출력한다.<br>\n",
    "연산자를 어떻게 끼워넣어도 항상 -10억보다 크거나 같고, 10억보다 작거나 같은 결과가 나오는 입력만 주어진다.<br>\n",
    "또한, 앞에서부터 계산했을 때, 중간에 계산되는 식의 결과도 항상 -10억보다 크거나 같고, 10억보다 작거나 같다."
   ]
  },
  {
   "cell_type": "code",
   "execution_count": 2,
   "metadata": {},
   "outputs": [
    {
     "name": "stdout",
     "output_type": "stream",
     "text": [
      "3\n",
      "3 4 5\n",
      "1 0 1 0\n",
      "35\n",
      "17\n"
     ]
    }
   ],
   "source": [
    "#import sys\n",
    "import math\n",
    "\n",
    "#n = int(sys.stdin.readline())\n",
    "#number = list(map(int, sys.stdin.readline().split()))\n",
    "n = int(input())\n",
    "number = list(map(int, input().split()))\n",
    "plus, minus, multiply, divide = map(int, input().split())\n",
    "max_value, min_value = -math.inf, math.inf\n",
    "\n",
    "# solution() 함수 정의\n",
    "\n",
    "def solution(i, result, plus, minus, multiply, divide):\n",
    "    global max_value, min_value\n",
    "    \n",
    "    # 모든 값을 연산하였다면 최대, 최소값을 찾은 후 종료\n",
    "    \n",
    "    if i == n:\n",
    "        max_value = max(result, max_value)\n",
    "        min_value = min(result, min_value)\n",
    "        return\n",
    "    \n",
    "    # 아니라면 추가 연산 실행\n",
    "    \n",
    "    else:\n",
    "        \n",
    "        # 연산자의 수가 양수라면 재귀 호출\n",
    "        \n",
    "        if plus:\n",
    "            solution(i + 1, result + number[i], plus - 1, minus, multiply, divide)\n",
    "        if minus:\n",
    "            solution(i + 1, result - number[i], plus, minus - 1, multiply, divide)\n",
    "        if multiply:\n",
    "            solution(i + 1, result * number[i], plus, minus, multiply - 1, divide)\n",
    "        if divide:\n",
    "            solution(i + 1, int(result / number[i]), plus, minus, multiply, divide - 1)\n",
    "            \n",
    "# 모든 함수 종료 후 최소, 최대값 출력\n",
    "\n",
    "solution(1, number[0], plus, minus, multiply, divide)\n",
    "\n",
    "print(max_value)\n",
    "print(min_value)"
   ]
  }
 ],
 "metadata": {
  "kernelspec": {
   "display_name": "Python 3",
   "language": "python",
   "name": "python3"
  },
  "language_info": {
   "codemirror_mode": {
    "name": "ipython",
    "version": 3
   },
   "file_extension": ".py",
   "mimetype": "text/x-python",
   "name": "python",
   "nbconvert_exporter": "python",
   "pygments_lexer": "ipython3",
   "version": "3.7.6"
  }
 },
 "nbformat": 4,
 "nbformat_minor": 4
}
