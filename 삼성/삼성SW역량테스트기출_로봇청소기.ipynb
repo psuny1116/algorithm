{
 "cells": [
  {
   "cell_type": "markdown",
   "metadata": {},
   "source": [
    "# 입력: sys.stdin.readline()\n",
    "파이썬에서 기본 입력은 input()을 사용하지만 백준에서는 시간 초과가 발생할 수 있음<br>\n",
    "특히 반복 입력의 경우 시간 단축을 위해 sys.stdin.readline()을 사용(import sys)<br>\n",
    "입력 시 \\n(개행문자)가 함께 입력되기 때문에 split()을 사용하여 삭제<br>\n",
    "\n",
    "주피터노트북에서는 이 코드가 실행 안됨. 주피터노트북에서는 input() 사용<br>"
   ]
  },
  {
   "cell_type": "markdown",
   "metadata": {},
   "source": [
    "# 로봇청소기\n",
    "\n",
    "## 문제\n",
    "로봇 청소기가 주어졌을 때, 청소하는 영역의 개수를 구하는 프로그램을 작성하시오.<br>\n",
    "\n",
    "로봇 청소기가 있는 장소는 N×M 크기의 직사각형으로 나타낼 수 있으며, 1×1크기의 정사각형 칸으로 나누어져 있다.<br>\n",
    "각각의 칸은 벽 또는 빈 칸이다. 청소기는 바라보는 방향이 있으며, 이 방향은 동, 서, 남, 북중 하나이다.<br>\n",
    "지도의 각 칸은 (r, c)로 나타낼 수 있고, r은 북쪽으로부터 떨어진 칸의 개수, c는 서쪽으로 부터 떨어진 칸의 개수이다.<br>\n",
    "\n",
    "로봇 청소기는 다음과 같이 작동한다.<br>\n",
    "\n",
    "현재 위치를 청소한다.<br>\n",
    "현재 위치에서 현재 방향을 기준으로 왼쪽 방향부터 차례대로 인접한 칸을 탐색한다.<br>\n",
    "왼쪽 방향에 아직 청소하지 않은 공간이 존재한다면, 그 방향으로 회전한 다음 한 칸을 전진하고 1번부터 진행한다.<br>\n",
    "왼쪽 방향에 청소할 공간이 없다면, 그 방향으로 회전하고 2번으로 돌아간다.<br>\n",
    "네 방향 모두 청소가 이미 되어있거나 벽인 경우에는, 바라보는 방향을 유지한 채로 한 칸 후진을 하고 2번으로 돌아간다.<br>\n",
    "네 방향 모두 청소가 이미 되어있거나 벽이면서, 뒤쪽 방향이 벽이라 후진도 할 수 없는 경우에는 작동을 멈춘다.<br>\n",
    "로봇 청소기는 이미 청소되어있는 칸을 또 청소하지 않으며, 벽을 통과할 수 없다.<br>\n",
    "\n",
    "## 입력\n",
    "첫째 줄에 세로 크기 N과 가로 크기 M이 주어진다. (3 ≤ N, M ≤ 50)<br>\n",
    "\n",
    "둘째 줄에 로봇 청소기가 있는 칸의 좌표 (r, c)와 바라보는 방향 d가 주어진다.<br>\n",
    "d가 0인 경우에는 북쪽을, 1인 경우에는 동쪽을, 2인 경우에는 남쪽을, 3인 경우에는 서쪽을 바라보고 있는 것이다.<br>\n",
    "\n",
    "셋째 줄부터 N개의 줄에 장소의 상태가 북쪽부터 남쪽 순서대로, 각 줄은 서쪽부터 동쪽 순서대로 주어진다.<br>\n",
    "빈 칸은 0, 벽은 1로 주어진다. 지도의 첫 행, 마지막 행, 첫 열, 마지막 열에 있는 모든 칸은 벽이다.<br>\n",
    "\n",
    "로봇 청소기가 있는 칸의 상태는 항상 빈 칸이다.<br>\n",
    "\n",
    "## 출력\n",
    "로봇 청소기가 청소하는 칸의 개수를 출력한다."
   ]
  },
  {
   "cell_type": "code",
   "execution_count": 1,
   "metadata": {},
   "outputs": [
    {
     "name": "stdout",
     "output_type": "stream",
     "text": [
      "3 3\n",
      "1 1 0\n",
      "1 1 1\n",
      "1 0 1\n",
      "1 1 1\n",
      "1\n"
     ]
    }
   ],
   "source": [
    "#import sys\n",
    "\n",
    "# solution 함수 정의\n",
    "\n",
    "def solution(x, y, d):\n",
    "    global count\n",
    "    \n",
    "    # room의 x, y 위치 값이 0이라면 청소\n",
    "    \n",
    "    if room[x][y] == 0:\n",
    "        room[x][y] = 2\n",
    "        count += 1\n",
    "        \n",
    "    # 4번 반복 -> 이동, 회전\n",
    "    \n",
    "    for _ in range(4):\n",
    "        nd = (d + 3) % 4\n",
    "        nx = x + dx[nd]\n",
    "        ny = y + dy[nd]\n",
    "        \n",
    "        # 이동할 좌표의 값이 0이면 재귀 함수 실행\n",
    "        \n",
    "        if room[nx][ny] == 0:\n",
    "            solution(nx, ny, nd)\n",
    "            return\n",
    "        \n",
    "        d = nd\n",
    "        \n",
    "    # 후진을 위한 좌표, 방향 변경\n",
    "    \n",
    "    nd = (d + 2) % 4\n",
    "    nx = x + dx[nd]\n",
    "    ny = y + dy[nd]\n",
    "    \n",
    "    # 벽을 만나면 종료\n",
    "    \n",
    "    if room[nx][ny] == 1:\n",
    "        return\n",
    "    solution(nx, ny, d)\n",
    "    \n",
    "#n, m = map(int, sys.stdin.readline().split())\n",
    "#c, r, d = map(int, sys.stdin.readline().split())\n",
    "\n",
    "n, m = map(int, input().split())\n",
    "c, r, d = map(int, input().split())\n",
    "\n",
    "room = []\n",
    "for _ in range(n):\n",
    "    #room.append(list(map(int, sys.stdin.readline().split())))\n",
    "    room.append(list(map(int, input().split())))\n",
    "    \n",
    "dx = [-1, 0, 1, 0]\n",
    "dy = [0, 1, 0, -1]\n",
    "\n",
    "count = 0\n",
    "\n",
    "solution(c, r, d)\n",
    "print(count)"
   ]
  }
 ],
 "metadata": {
  "kernelspec": {
   "display_name": "Python 3",
   "language": "python",
   "name": "python3"
  },
  "language_info": {
   "codemirror_mode": {
    "name": "ipython",
    "version": 3
   },
   "file_extension": ".py",
   "mimetype": "text/x-python",
   "name": "python",
   "nbconvert_exporter": "python",
   "pygments_lexer": "ipython3",
   "version": "3.7.6"
  }
 },
 "nbformat": 4,
 "nbformat_minor": 4
}
