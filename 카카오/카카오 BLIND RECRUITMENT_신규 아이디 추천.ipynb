{
 "cells": [
  {
   "cell_type": "markdown",
   "metadata": {},
   "source": [
    "# 신규 아이디 추천\n",
    "\n",
    "## 문제 설명\n",
    "카카오에 입사한 신입 개발자 네오는 \"카카오계정개발팀\"에 배치되어, 카카오 서비스에 가입하는 유저들의 아이디를 생성하는 업무를 담당하게 되었습니다.<br>\n",
    "\"네오\"에게 주어진 첫 업무는 새로 가입하는 유저들이 카카오 아이디 규칙에 맞지 않는 아이디를 입력했을 때, 입력된 아이디와 유사하면서 규칙에 맞는 아이디를 추천해주는 프로그램을 개발하는 것입니다.<br>\n",
    "다음은 카카오 아이디의 규칙입니다.<br>\n",
    "\n",
    "아이디의 길이는 3자 이상 15자 이하여야 합니다.<br>\n",
    "아이디는 알파벳 소문자, 숫자, 빼기(-), 밑줄( _ ), 마침표(.) 문자만 사용할 수 있습니다.<br>\n",
    "단, 마침표(.)는 처음과 끝에 사용할 수 없으며 또한 연속으로 사용할 수 없습니다.<br>\n",
    "\"네오\"는 다음과 같이 7단계의 순차적인 처리 과정을 통해 신규 유저가 입력한 아이디가 카카오 아이디 규칙에 맞는 지 검사하고 규칙에 맞지 않은 경우 규칙에 맞는 새로운 아이디를 추천해 주려고 합니다.<br>\n",
    "신규 유저가 입력한 아이디가 new_id 라고 한다면,<br>\n",
    "\n",
    "1단계 new_id의 모든 대문자를 대응되는 소문자로 치환합니다.<br>\n",
    "2단계 new_id에서 알파벳 소문자, 숫자, 빼기(-), 밑줄( _ ), 마침표(.)를 제외한 모든 문자를 제거합니다.<br>\n",
    "3단계 new_id에서 마침표(.)가 2번 이상 연속된 부분을 하나의 마침표(.)로 치환합니다.<br>\n",
    "4단계 new_id에서 마침표(.)가 처음이나 끝에 위치한다면 제거합니다.<br>\n",
    "5단계 new_id가 빈 문자열이라면, new_id에 \"a\"를 대입합니다.<br>\n",
    "6단계 new_id의 길이가 16자 이상이면, new_id의 첫 15개의 문자를 제외한 나머지 문자들을 모두 제거합니다.<br>\n",
    "     만약 제거 후 마침표(.)가 new_id의 끝에 위치한다면 끝에 위치한 마침표(.) 문자를 제거합니다.<br>\n",
    "7단계 new_id의 길이가 2자 이하라면, new_id의 마지막 문자를 new_id의 길이가 3이 될 때까지 반복해서 끝에 붙입니다.<br>\n",
    "예를 들어, new_id 값이 \"...!@BaT#* ..y.abcdefghijklm\" 라면, 위 7단계를 거치고 나면 new_id는 아래와 같이 변경됩니다.<br>\n",
    "\n",
    "1단계 대문자 'B'와 'T'가 소문자 'b'와 't'로 바뀌었습니다.<br>\n",
    "\"...!@BaT#* ..y.abcdefghijklm\" → \"...!@bat#* ..y.abcdefghijklm\"<br>\n",
    "\n",
    "2단계 '!', '@', '#', ' * ' 문자가 제거되었습니다.<br>\n",
    "\"...!@bat#* ..y.abcdefghijklm\" → \"...bat..y.abcdefghijklm\"<br>\n",
    "\n",
    "3단계 '...'와 '..' 가 '.'로 바뀌었습니다.<br>\n",
    "\"...bat..y.abcdefghijklm\" → \".bat.y.abcdefghijklm\"<br>\n",
    "\n",
    "4단계 아이디의 처음에 위치한 '.'가 제거되었습니다.<br>\n",
    "\".bat.y.abcdefghijklm\" → \"bat.y.abcdefghijklm\"<br>\n",
    "\n",
    "5단계 아이디가 빈 문자열이 아니므로 변화가 없습니다.<br>\n",
    "\"bat.y.abcdefghijklm\" → \"bat.y.abcdefghijklm\"<br>\n",
    "\n",
    "6단계 아이디의 길이가 16자 이상이므로, 처음 15자를 제외한 나머지 문자들이 제거되었습니다.<br>\n",
    "\"bat.y.abcdefghijklm\" → \"bat.y.abcdefghi\"<br>\n",
    "\n",
    "7단계 아이디의 길이가 2자 이하가 아니므로 변화가 없습니다.<br>\n",
    "\"bat.y.abcdefghi\" → \"bat.y.abcdefghi\"<br>\n",
    "\n",
    "따라서 신규 유저가 입력한 new_id가 \"...!@BaT#* ..y.abcdefghijklm\"일 때, 네오의 프로그램이 추천하는 새로운 아이디는 \"bat.y.abcdefghi\" 입니다.<br>\n",
    "\n",
    "## 문제\n",
    "신규 유저가 입력한 아이디를 나타내는 new_id가 매개변수로 주어질 때, \"네오\"가 설계한 7단계의 처리 과정을 거친 후의 추천 아이디를 return 하도록 solution 함수를 완성해 주세요.\n",
    "\n",
    "## 제한사항\n",
    "new_id는 길이 1 이상 1,000 이하인 문자열입니다.<br>\n",
    "new_id는 알파벳 대문자, 알파벳 소문자, 숫자, 특수문자로 구성되어 있습니다.<br>\n",
    "new_id에 나타날 수 있는 특수문자는 -_.~!@#$%^&*()=+[{]}:?,<>/ 로 한정됩니다."
   ]
  },
  {
   "cell_type": "markdown",
   "metadata": {},
   "source": [
    "# 문자열 다루기\n",
    "\n",
    "string = 'ABCabc'\n",
    "\n",
    "### 알파벳 대소문자 변환\n",
    "\n",
    "string.lower() => 'abcabc'\n",
    "string.upper() => 'ABCABC'\n",
    "\n",
    "### 알파벳 + 숫자 검사\n",
    "\n",
    "string.isalnum() => True\n",
    "\n",
    "### 문자열에서 'a'를 'b'로 변경\n",
    "\n",
    "string.replace('a', 'b') => 'ABCbbc'\n",
    "\n",
    "### 문자열 슬라이싱\n",
    "\n",
    "string[::-1] => 'cbaCBA'     # 전체를 뒤집음"
   ]
  },
  {
   "cell_type": "code",
   "execution_count": 2,
   "metadata": {},
   "outputs": [],
   "source": [
    "def solution(new_id):\n",
    "    \n",
    "    string = new_id\n",
    "    \n",
    "    # 1단계 new_id의 모든 대문자를 대응되는 소문자로 치환합니다.\n",
    "    \n",
    "    string = string.lower()\n",
    "    \n",
    "    # 2단계 new_id에서 알파벳 소문자, 숫자, 빼기(-), 밑줄(_), 마침표(.)를 제외한 모든 문자를 제거합니다.\n",
    "    \n",
    "    for i in string:\n",
    "        if not (i.isalnum() or i == '-' or i == '_' or i == '.'):\n",
    "            string = string.replace(i, '')\n",
    "    \n",
    "    # 3단계 new_id에서 마침표(.)가 2번 이상 연속된 부분을 하나의 마침표(.)로 치환합니다.\n",
    "    \n",
    "    while '..' in string:\n",
    "        string = string.replace('..', '.')\n",
    "        \n",
    "    # 4단계 new_id에서 마침표(.)가 처음이나 끝에 위치한다면 제거합니다.\n",
    "    \n",
    "    if string and string[0] == '.':\n",
    "        string = string[1:]\n",
    "    if string and string[-1] == '.':\n",
    "        string = string[:-1]\n",
    "        \n",
    "    # 5단계 new_id가 빈 문자열이라면, new_id에 \"a\"를 대입합니다.\n",
    "    \n",
    "    if string == '':\n",
    "        string = 'a'\n",
    "        \n",
    "    # 6단계 new_id의 길이가 16자 이상이면, new_id의 첫 15개의 문자를 제외한 나머지 문자들을 모두 제거합니다.\n",
    "    # 만약 제거 후 마침표(.)가 new_id의 끝에 위치한다면 끝에 위치한 마침표(.) 문자를 제거합니다.\n",
    "    \n",
    "    if len(string) >= 16:\n",
    "        string = string[:15]\n",
    "        if string[-1] == '.':\n",
    "            string = string[:-1]\n",
    "            \n",
    "    # 7단계 new_id의 길이가 2자 이하라면, new_id의 마지막 문자를 new_id의 길이가 3이 될 때까지 반복해서 끝에 붙입니다.\n",
    "    \n",
    "    while len(string) <= 2:\n",
    "        string += string[-1]\n",
    "        \n",
    "    answer = string\n",
    "    return answer"
   ]
  },
  {
   "cell_type": "code",
   "execution_count": 3,
   "metadata": {},
   "outputs": [
    {
     "data": {
      "text/plain": [
       "'bat.y.abcdefghi'"
      ]
     },
     "execution_count": 3,
     "metadata": {},
     "output_type": "execute_result"
    }
   ],
   "source": [
    "solution(\"...!@BaT#*..y.abcdefghijklm\")"
   ]
  }
 ],
 "metadata": {
  "kernelspec": {
   "display_name": "Python 3",
   "language": "python",
   "name": "python3"
  },
  "language_info": {
   "codemirror_mode": {
    "name": "ipython",
    "version": 3
   },
   "file_extension": ".py",
   "mimetype": "text/x-python",
   "name": "python",
   "nbconvert_exporter": "python",
   "pygments_lexer": "ipython3",
   "version": "3.7.6"
  }
 },
 "nbformat": 4,
 "nbformat_minor": 4
}
