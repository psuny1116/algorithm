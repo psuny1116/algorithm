{
 "cells": [
  {
   "cell_type": "markdown",
   "metadata": {},
   "source": [
    "# 21918_브론즈2\n",
    "\n",
    "## 문제\n",
    " \n",
    "- $N$개의 전구가 있고 맨 왼쪽에 있는 전구를 첫 번째라고 하자. 전구의 상태는 두 가지가 있으며 이를 숫자로 표현한다.\n",
    "-  $1$은 전구가 켜져 있는 상태를 의미하고, $0$은 전구가 꺼져 있는 상태를 의미한다.\n",
    "- 전구를 제어하는 명령어가 1번부터 4번까지 4개가 있다. 아래 표는 각 명령어에 대한 설명이다.\n",
    "- 1번 명령어 [$i$ $x$] $(1 \\le i \\le N, 0 \\le x \\le 1)$ \t $i$ 번째 전구의 상태를 $x$로 변경한다.\n",
    "- 2번 명령어 [$l$ $r$] $(1 \\le l \\le r \\le N)$ \t $l$번째부터 $r$번째까지의 전구의 상태를 변경한다. (켜져있는 전구는 끄고, 꺼져있는 전구는 킨다.)\n",
    "- 3번 명령어 [$l$ $r$] $(1 \\le l \\le r \\le N)$ \t $l$번째부터 $r$번째까지의 전구를 끈다.\n",
    "- 4번 명령어 [$l$ $r$] $(1 \\le l \\le r \\le N)$ \t $l$번째부터 $r$번째까지의 전구를 킨다.\n",
    "- 주어지는 명령어를 다 수행한 결과 전구는 어떤 상태인지 알아보자.\n",
    "\n",
    "## 입력\n",
    "\n",
    "- 첫 번째 줄에 전구의 개수 $N$와 입력되는 명령어의 개수 $M$이 주어진다.\n",
    "- 두 번째 줄에는 $N$개의 전구가 현재 어떤 상태 $s$인지 주어진다. ($0$은 꺼져있는 상태, $1$은 켜져있는 상태)\n",
    "-  $3$ 번째 줄부터 $M + 2$ 번째 줄까지 세 개의 정수 $a, b, c$가 들어온다.\n",
    "-  $a$는 $a$번째 명령어를 의미하고 $b, c$는 $a$가 1인 경우는 각각 $i, x$를 의미하고 $a$가 $2, 3, 4$ 중 하나면 각각 $l, r$을 의미한다.\n",
    "\n",
    "## 출력\n",
    "\n",
    "- 모든 명령어를 수행한 후 전구가 어떤 상태인지 출력한다.\n",
    "\n",
    "## 제한\n",
    " \n",
    "- $1 \\le N, M \\le 4,000$ \n",
    " - $1 \\le a \\le 4$ \n",
    " - $0 \\le s, x \\le 1$ \n",
    " - $1 \\le l \\le r \\le N$ \n",
    " - $1 \\le i \\le N$ \n",
    "\n",
    "### 예제 입력 1 \n",
    "- 8 3\n",
    "- 0 0 0 0 0 0 0 0\n",
    "- 1 2 1\n",
    "- 1 4 1\n",
    "- 2 2 4\n",
    "\n",
    "### 예제 출력 1 \n",
    "- 0 0 1 0 0 0 0 0\n",
    "\n",
    "### 예제 입력 2 \n",
    "- 8 6\n",
    "- 0 0 0 0 0 0 0 0\n",
    "- 1 2 1\n",
    "- 1 4 1\n",
    "- 2 2 4\n",
    "- 2 1 7\n",
    "- 3 5 8\n",
    "- 4 4 6\n",
    "\n",
    "### 예제 출력 2 \n",
    "- 1 1 0 1 1 1 0 0"
   ]
  },
  {
   "cell_type": "code",
   "execution_count": 8,
   "metadata": {},
   "outputs": [
    {
     "name": "stdout",
     "output_type": "stream",
     "text": [
      "8 6\n",
      "0 0 0 0 0 0 0 0\n",
      "1 2 1\n",
      "1 4 1\n",
      "2 2 4\n",
      "2 1 7\n",
      "3 5 8\n",
      "4 4 6\n",
      "1 1 0 1 1 1 0 0\n"
     ]
    }
   ],
   "source": [
    "n, m = map(int, input().split())\n",
    "bulbs = list(map(int, input().split()))\n",
    "\n",
    "for i in range(m):\n",
    "    a, b, c = map(int, input().split())\n",
    "    if a == 1:\n",
    "        bulbs[b - 1] = c\n",
    "    elif a == 2:\n",
    "        for j in range(b - 1, c):\n",
    "            if bulbs[j] == 1:\n",
    "                bulbs[j] = 0\n",
    "            else:\n",
    "                bulbs[j] = 1\n",
    "    elif a == 3:\n",
    "        for j in range(b - 1, c):\n",
    "            bulbs[j] = 0\n",
    "    else:\n",
    "        for j in range(b - 1, c):\n",
    "            bulbs[j] = 1\n",
    "            \n",
    "print(*bulbs)"
   ]
  }
 ],
 "metadata": {
  "kernelspec": {
   "display_name": "Python 3",
   "language": "python",
   "name": "python3"
  },
  "language_info": {
   "codemirror_mode": {
    "name": "ipython",
    "version": 3
   },
   "file_extension": ".py",
   "mimetype": "text/x-python",
   "name": "python",
   "nbconvert_exporter": "python",
   "pygments_lexer": "ipython3",
   "version": "3.7.6"
  }
 },
 "nbformat": 4,
 "nbformat_minor": 5
}
