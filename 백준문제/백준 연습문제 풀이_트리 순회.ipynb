{
 "cells": [
  {
   "cell_type": "markdown",
   "metadata": {},
   "source": [
    "# 입력: sys.stdin.readline()\n",
    "* 파이썬에서 기본 입력은 input()을 사용하지만 백준에서는 시간 초과가 발생할 수 있음\n",
    "* 특히 반복 입력의 경우 시간 단축을 위해 sys.stdin.readline()을 사용(import sys)\n",
    "* 입력 시 \\n(개행문자)가 함께 입력되기 때문에 split()을 사용하여 삭제\n",
    "<br>\n",
    "\n",
    "* 주피터노트북에서는 이 코드가 실행 안됨. 주피터노트북에서는 input() 사용"
   ]
  },
  {
   "cell_type": "markdown",
   "metadata": {},
   "source": [
    "# 트리 순회(문제번호: 1991)\n",
    "\n",
    "## 문제\n",
    "이진 트리를 입력받아 전위 순회(preorder traversal), 중위 순회(inorder traversal), 후위 순회(postorder traversal)한 결과를 출력하는 프로그램을 작성하시오.<br>\n",
    "\n",
    "\n",
    "\n",
    "예를 들어 위와 같은 이진 트리가 입력되면,<br>\n",
    "\n",
    "전위 순회한 결과 : ABDCEFG // (루트) (왼쪽 자식) (오른쪽 자식)<br>\n",
    "중위 순회한 결과 : DBAECFG // (왼쪽 자식) (루트) (오른쪽 자식)<br>\n",
    "후위 순회한 결과 : DBEGFCA // (왼쪽 자식) (오른쪽 자식) (루트)<br>\n",
    "가 된다.\n",
    "\n",
    "## 입력\n",
    "첫째 줄에는 이진 트리의 노드의 개수 N(1 ≤ N ≤ 26)이 주어진다.<br>\n",
    "둘째 줄부터 N개의 줄에 걸쳐 각 노드와 그의 왼쪽 자식 노드, 오른쪽 자식 노드가 주어진다.<br>\n",
    "노드의 이름은 A부터 차례대로 알파벳 대문자로 매겨지며, 항상 A가 루트 노드가 된다.<br>\n",
    "자식 노드가 없는 경우에는 .으로 표현한다.\n",
    "\n",
    "## 출력\n",
    "첫째 줄에 전위 순회, 둘째 줄에 중위 순회, 셋째 줄에 후위 순회한 결과를 출력한다.<br>\n",
    "각 줄에 N개의 알파벳을 공백 없이 출력하면 된다."
   ]
  },
  {
   "cell_type": "code",
   "execution_count": 2,
   "metadata": {},
   "outputs": [
    {
     "name": "stdout",
     "output_type": "stream",
     "text": [
      "7\n",
      "A B C\n",
      "B D .\n",
      "C E F\n",
      "E . .\n",
      "F . G\n",
      "D . .\n",
      "G . .\n",
      "ABDCEFG\n",
      "DBAECFG\n",
      "DBEGFCA"
     ]
    }
   ],
   "source": [
    "#import sys\n",
    "#n = int(sys.stdin.readline().strip())\n",
    "n = int(input().strip())\n",
    "\n",
    "tree = {}\n",
    "\n",
    "for _ in range(n):\n",
    "    #node, left, right = sys.stdin.readline().split()\n",
    "    node, left, right = input().split()\n",
    "    tree[node] = [left, right]\n",
    "    \n",
    "def preorder(node):\n",
    "    if node != '.':\n",
    "        print(node, end = '')\n",
    "        preorder(tree[node][0])\n",
    "        preorder(tree[node][1])\n",
    "        \n",
    "def inorder(node):\n",
    "    if node != '.':\n",
    "        inorder(tree[node][0])\n",
    "        print(node, end = '')\n",
    "        inorder(tree[node][1])\n",
    "        \n",
    "def postorder(node):\n",
    "    if node != '.':\n",
    "        postorder(tree[node][0])\n",
    "        postorder(tree[node][1])\n",
    "        print(node, end = '')\n",
    "        \n",
    "preorder('A')\n",
    "print()\n",
    "inorder('A')\n",
    "print()\n",
    "postorder('A')"
   ]
  }
 ],
 "metadata": {
  "kernelspec": {
   "display_name": "Python 3",
   "language": "python",
   "name": "python3"
  },
  "language_info": {
   "codemirror_mode": {
    "name": "ipython",
    "version": 3
   },
   "file_extension": ".py",
   "mimetype": "text/x-python",
   "name": "python",
   "nbconvert_exporter": "python",
   "pygments_lexer": "ipython3",
   "version": "3.7.6"
  }
 },
 "nbformat": 4,
 "nbformat_minor": 4
}
