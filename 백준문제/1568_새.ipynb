{
 "cells": [
  {
   "cell_type": "markdown",
   "metadata": {},
   "source": [
    "# 1568_브론즈2\n",
    "\n",
    "## 문제\n",
    "\n",
    "- N마리의 새가 나무에 앉아있고, 자연수를 배우기 원한다. 새들은 1부터 모든 자연수를 오름차순으로 노래한다. 어떤 숫자 K를 노래할 때, K마리의 새가 나무에서 하늘을 향해 날아간다. 만약, 현재 나무에 앉아있는 새의 수가 지금 불러야 하는 수 보다 작을 때는, 1부터 게임을 다시 시작한다.\n",
    "- 나무에 앉아 있는 새의 수 N이 주어질 때, 하나의 수를 노래하는데 1초가 걸린다고 하면, 모든 새가 날아가기까지 총 몇 초가 걸리는지 출력하는 프로그램을 작성하시오.\n",
    "\n",
    "## 입력\n",
    "\n",
    "- 첫째 줄에 새의 수 N이 주어진다. 이 값은 109보다 작거나 같은 자연수이다.\n",
    "\n",
    "## 출력\n",
    "\n",
    "- 첫째 줄에 정답을 출력한다.\n",
    "\n",
    "### 예제 입력 1 \n",
    "- 14\n",
    "\n",
    "### 예제 출력 1 \n",
    "- 7\n",
    "\n",
    "### 예제 입력 2 \n",
    "- 1\n",
    "\n",
    "### 예제 출력 2 \n",
    "- 1\n",
    "\n",
    "### 예제 입력 3 \n",
    "- 3\n",
    "\n",
    "### 예제 출력 3 \n",
    "- 2\n",
    "\n",
    "### 예제 입력 4 \n",
    "- 4\n",
    "\n",
    "### 예제 출력 4 \n",
    "- 3\n",
    "\n",
    "### 예제 입력 5 \n",
    "- 100\n",
    "\n",
    "### 예제 출력 5 \n",
    "- 18"
   ]
  },
  {
   "cell_type": "code",
   "execution_count": 1,
   "metadata": {},
   "outputs": [
    {
     "name": "stdout",
     "output_type": "stream",
     "text": [
      "100\n",
      "18\n"
     ]
    }
   ],
   "source": [
    "n = int(input())\n",
    "answer = 0\n",
    "k = 1\n",
    "\n",
    "while n > 0:\n",
    "    if n < k:\n",
    "        k = 1\n",
    "    n -= k\n",
    "    k += 1\n",
    "    answer += 1\n",
    "print(answer)"
   ]
  }
 ],
 "metadata": {
  "kernelspec": {
   "display_name": "Python 3",
   "language": "python",
   "name": "python3"
  },
  "language_info": {
   "codemirror_mode": {
    "name": "ipython",
    "version": 3
   },
   "file_extension": ".py",
   "mimetype": "text/x-python",
   "name": "python",
   "nbconvert_exporter": "python",
   "pygments_lexer": "ipython3",
   "version": "3.7.6"
  }
 },
 "nbformat": 4,
 "nbformat_minor": 5
}
