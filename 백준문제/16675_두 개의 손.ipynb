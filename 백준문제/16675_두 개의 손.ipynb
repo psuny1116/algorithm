{
 "cells": [
  {
   "cell_type": "markdown",
   "metadata": {},
   "source": [
    "# 16675_브론즈2\n",
    "\n",
    "## 문제\n",
    "\n",
    "- 민성이와 태경이는 고려대학교에서 알아주는 가위바위보의 최고수들이다. 이들은 기존의 가위바위보에 질린 나머지, 2개의 손을 모두 이용하여 가위바위보를 즐기는 경지에 이르렀다.\n",
    "- 먼저, 둘이 동시에 “가위, 바위, 보”를 외치며 두 개의 손을 각각 가위, 바위, 보 중 하나로 설정하여 공개한다. 그 자리에서 서로 3초간 호흡을 가다듬은 후, 동시에 왼손을 낼지 오른손을 낼지를 결정한다. 민성이와 태경이는 최고수들끼리의 대결이라는 압박감에 의해 가끔 판단력이 흐려질 때가 있어서, 실수로 왼손과 오른손에 같은 동작을 취할 수도 있다.\n",
    "- 당신은 민성이와 태경이의 왼손과 오른손의 상태가 주어졌을 때, 민성이 또는 태경이가 적절히 왼손 또는 오른손을 선택하여 가위바위보에서 무조건 이기는 방법이 있는지 없는지를 알려고 한다.\n",
    "\n",
    "## 입력\n",
    "\n",
    "- 첫 번째 줄에 차례로 ML, MR, TL, TR이 공백으로 구분되어 주어진다. 차례대로 민성이의 왼손과 오른손, 태경이의 왼손과 오른손의 상태를 나타낸다.\n",
    "- 위 4개의 값들은 “S”, “R”, “P” 중 하나이며, 각각 가위, 바위, 보를 의미한다.\n",
    "\n",
    "## 출력\n",
    "\n",
    "- 첫 번째 줄에 민성이가 무조건 이길 수 있다면 “MS”, 태경이가 무조건 이길 수 있다면 “TK”, 누가 이길 지 확답할 수 없다면 “?”를 쌍따옴표를 제외하고 출력한다.\n",
    "- 가위바위보에서 가위는 보를 이기고, 바위는 가위를 이기며, 보는 바위를 이긴다. 같은 손동작끼리는 승부가 나지 않는다 (비긴다).\n",
    "\n",
    "### 예제 입력 1 \n",
    "- R S P R\n",
    "\n",
    "### 예제 출력 1 \n",
    "- ?\n",
    "- 민성이는 왼손에 바위와 오른손에 가위를, 태경이는 왼손에 보와 오른손에 바위를 냈다. 이 상황에서는 민성이나 태경이 중 누가 이길 지 확실하지 않다.\n",
    "\n",
    "### 예제 입력 2 \n",
    "- R R S S\n",
    "\n",
    "### 예제 출력 2 \n",
    "- MS\n",
    "\n",
    "### 예제 입력 3 \n",
    "- P P S R\n",
    "\n",
    "### 예제 출력 3 \n",
    "- TK"
   ]
  },
  {
   "cell_type": "code",
   "execution_count": 15,
   "metadata": {},
   "outputs": [
    {
     "name": "stdout",
     "output_type": "stream",
     "text": [
      "R S P R\n",
      "?\n"
     ]
    }
   ],
   "source": [
    "# S, P, R을 숫자로 표현(0, 1, 2)\n",
    "ML, MR, TL, TR = ('SPR'.index(i) for i in input().split())\n",
    "\n",
    "# 같은 것을 낸 사람은 질 가능성이 큼\n",
    "\n",
    "if ML == MR and (ML + 2) % 3 in [TL, TR]:\n",
    "    print('TK')\n",
    "elif TL == TR and (TL + 2) % 3 in [ML, MR]:\n",
    "    print('MS')\n",
    "else:\n",
    "    print('?')"
   ]
  }
 ],
 "metadata": {
  "kernelspec": {
   "display_name": "Python 3",
   "language": "python",
   "name": "python3"
  },
  "language_info": {
   "codemirror_mode": {
    "name": "ipython",
    "version": 3
   },
   "file_extension": ".py",
   "mimetype": "text/x-python",
   "name": "python",
   "nbconvert_exporter": "python",
   "pygments_lexer": "ipython3",
   "version": "3.7.6"
  }
 },
 "nbformat": 4,
 "nbformat_minor": 5
}
