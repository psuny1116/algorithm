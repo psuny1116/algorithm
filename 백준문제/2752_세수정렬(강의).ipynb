{
 "cells": [
  {
   "cell_type": "markdown",
   "metadata": {},
   "source": [
    "# 2752_브론즈4\n",
    "\n",
    "## 문제\n",
    "\n",
    "- 동규는 세수를 하다가 정렬이 하고싶어졌다.\n",
    "- 숫자 세 개를 생각한 뒤에, 이를 오름차순으로 정렬하고 싶어 졌다.\n",
    "- 숫자 세 개가 주어졌을 때, 가장 작은 수, 그 다음 수, 가장 큰 수를 출력하는 프로그램을 작성하시오.\n",
    "\n",
    "## 입력\n",
    "\n",
    "- 숫자 세 개가 주어진다. 이 숫자는 1보다 크거나 같고, 1,000,000보다 작거나 같다. 이 숫자는 모두 다르다.\n",
    "\n",
    "## 출력\n",
    "\n",
    "- 제일 작은 수, 그 다음 수, 제일 큰 수를 차례대로 출력한다.\n",
    "\n",
    "### 예제 입력 1 \n",
    "\n",
    "- 3 1 2\n",
    "\n",
    "### 예제 출력 1 \n",
    "\n",
    "- 1 2 3"
   ]
  },
  {
   "cell_type": "code",
   "execution_count": 8,
   "metadata": {},
   "outputs": [
    {
     "name": "stdout",
     "output_type": "stream",
     "text": [
      "3 1 2\n",
      "1 2 3\n"
     ]
    }
   ],
   "source": [
    "answer = list(map(int, input().split()))\n",
    "\n",
    "answer.sort()\n",
    "\n",
    "print(answer[0], answer[1], answer[2])"
   ]
  },
  {
   "cell_type": "markdown",
   "metadata": {},
   "source": [
    "# 강의 해답\n",
    "\n",
    "- 정렬\n",
    "- 레벨1"
   ]
  },
  {
   "cell_type": "code",
   "execution_count": 1,
   "metadata": {},
   "outputs": [
    {
     "name": "stdout",
     "output_type": "stream",
     "text": [
      "3 1 2\n",
      "1 2 3\n"
     ]
    }
   ],
   "source": [
    "if __name__ == \"__main__\":\n",
    "    n1, n2, n3 = map(int, input().split())\n",
    "    \n",
    "    if n1 > n2:\n",
    "        n1, n2 = n2, n1\n",
    "        \n",
    "    if n2 > n3:\n",
    "        n2, n3 = n3, n2\n",
    "        if n1 > n2:\n",
    "            n1, n2 = n2, n1\n",
    "            \n",
    "    print(n1, n2, n3)"
   ]
  }
 ],
 "metadata": {
  "kernelspec": {
   "display_name": "Python 3",
   "language": "python",
   "name": "python3"
  },
  "language_info": {
   "codemirror_mode": {
    "name": "ipython",
    "version": 3
   },
   "file_extension": ".py",
   "mimetype": "text/x-python",
   "name": "python",
   "nbconvert_exporter": "python",
   "pygments_lexer": "ipython3",
   "version": "3.7.6"
  }
 },
 "nbformat": 4,
 "nbformat_minor": 5
}
