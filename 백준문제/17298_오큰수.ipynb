{
 "cells": [
  {
   "cell_type": "markdown",
   "metadata": {},
   "source": [
    "# 입력: sys.stdin.readline()\n",
    "* 파이썬에서 기본 입력은 input()을 사용하지만 백준에서는 시간 초과가 발생할 수 있음\n",
    "* 특히 반복 입력의 경우 시간 단축을 위해 sys.stdin.readline()을 사용(import sys)\n",
    "* 입력 시 \\n(개행문자)가 함께 입력되기 때문에 split()을 사용하여 삭제\n",
    "<br>\n",
    "\n",
    "* 주피터노트북에서는 이 코드가 실행 안됨. 주피터노트북에서는 input() 사용"
   ]
  },
  {
   "cell_type": "markdown",
   "metadata": {},
   "source": [
    "# 오큰수(문제번호: 17298)\n",
    "\n",
    "## 문제\n",
    "크기가 N인 수열 A = A1, A2, ..., AN이 있다.<br>\n",
    "수열의 각 원소 Ai에 대해서 오큰수 NGE(i)를 구하려고 한다.<br>\n",
    "Ai의 오큰수는 오른쪽에 있으면서 Ai보다 큰 수 중에서 가장 왼쪽에 있는 수를 의미한다.<br>\n",
    "그러한 수가 없는 경우에 오큰수는 -1이다.<br>\n",
    "\n",
    "예를 들어, A = [3, 5, 2, 7]인 경우 NGE(1) = 5, NGE(2) = 7, NGE(3) = 7, NGE(4) = -1이다.<br>\n",
    "A = [9, 5, 4, 8]인 경우에는 NGE(1) = -1, NGE(2) = 8, NGE(3) = 8, NGE(4) = -1이다.<br>\n",
    "\n",
    "## 입력\n",
    "첫째 줄에 수열 A의 크기 N (1 ≤ N ≤ 1,000,000)이 주어진다.<br>\n",
    "둘째 줄에 수열 A의 원소 A1, A2, ..., AN (1 ≤ Ai ≤ 1,000,000)이 주어진다.<br>\n",
    "\n",
    "## 출력\n",
    "총 N개의 수 NGE(1), NGE(2), ..., NGE(N)을 공백으로 구분해 출력한다."
   ]
  },
  {
   "cell_type": "code",
   "execution_count": 3,
   "metadata": {},
   "outputs": [
    {
     "name": "stdout",
     "output_type": "stream",
     "text": [
      "4\n",
      "3 5 2 7\n",
      "5 7 7 -1\n"
     ]
    }
   ],
   "source": [
    "# for문 이용\n",
    "# 효율성 떨어짐 -> 백준에서 시간초과 나옴\n",
    "\n",
    "# number = 4, list_A = [3, 5, 2, 7], nge = [-1, -1, -1, -1]\n",
    "# for문을 사용하여 range(4) 반복(i = 0, 1, 2, 3)\n",
    "# 중첩 for문을 사용하여 range(i + 1, i) 반복 (j = 1, 2, 3) (j = 2, 3) (j = 3) (j = X)\n",
    "# 만약 list_A[i]와 list_A[j]를 비교해서 list_A[j]가 더 크다면 nge[i]의 값을 list_A[j]로 변경 후 break 실행\n",
    "\n",
    "# i = 0 / list_A[i] = 3 / list_A[j] = [5, 2, 7] / nge[i] = 5\n",
    "# i = 1 / list_A[i] = 5 / list_A[j] = [2, 7] / nge[i] = 7\n",
    "# i = 2 / list_A[i] = 2 / list_A[j] = [7] / nge[i] = 7\n",
    "# i = 3 / list_A[i] = 7 / list_A[j] = [] / nge[i] = -1\n",
    "# nge = [5, 7, 7, -1]\n",
    "\n",
    "#import sys\n",
    "#number = int(sys.stdin.readline())\n",
    "#list_A = list(map(int, sys.stdin.readline().split()))\n",
    "\n",
    "number = int(input())\n",
    "list_A = list(map(int, input().split()))\n",
    "\n",
    "nge = [-1] * number\n",
    "\n",
    "for i in range(number):\n",
    "    for j in range(i + 1, number):\n",
    "        if list_A[i] < list_A[j]:\n",
    "            nge[i] = list_A[j]\n",
    "            break\n",
    "            \n",
    "print(*nge)     # nge 전체 리스트 출력"
   ]
  },
  {
   "cell_type": "code",
   "execution_count": 4,
   "metadata": {},
   "outputs": [
    {
     "name": "stdout",
     "output_type": "stream",
     "text": [
      "4\n",
      "3 5 2 7\n",
      "5 7 7 -1\n"
     ]
    }
   ],
   "source": [
    "# stack 이용\n",
    "\n",
    "# number = 4 / list_A = [3, 5, 2, 7] / nge = [-1, -1, -1, -1] / index = []\n",
    "# for문을 사용하여 number만큼 반복(i = 0, 1, 2, 3)\n",
    "# while을 사용하여 index에 값이 존재하고 list_A[index[-1]] < list_A[i] 일 때 반복 실행\n",
    "# index 리스트에 i 추가\n",
    "\n",
    "# i = 0 / while = False / index = [0]\n",
    "# i = 1 / while 3 < 5 = True / nge = [5, -1, -1, -1] / index[1]\n",
    "# i = 2 / while 5 < 2 = False / index = [1, 2]\n",
    "# i = 3 / while 2 < 7 = True / nge = [5, -1, 7, -1] / index[1]\n",
    "#       / while 3 < 7 = True / nge = [5, 7, 7, -1] / index[]\n",
    "\n",
    "# 스택의 top을 인덱스로 사용하는 값과 리스트의 다음 순서 값을 비교해서\n",
    "# 스택의 값이 더 크면 다음 단계로 넘어가기\n",
    "# 스택의 값이 더 작으면 오큰수 지정\n",
    "\n",
    "#import sys\n",
    "#number = int(sys.stdin.readline())\n",
    "#list_A = list(map(int, sys.stdin.readline().split()))\n",
    "\n",
    "number = int(input())\n",
    "list_A = list(map(int, input().split()))\n",
    "\n",
    "nge = [-1] * number\n",
    "index = []\n",
    "\n",
    "for i in range(number):\n",
    "    while index and list_A[index[-1]] < list_A[i]:\n",
    "        nge[index[-1]] = list_A[i]\n",
    "        index.pop()\n",
    "    index.append(i)\n",
    "    \n",
    "print(*nge)"
   ]
  }
 ],
 "metadata": {
  "kernelspec": {
   "display_name": "Python 3",
   "language": "python",
   "name": "python3"
  },
  "language_info": {
   "codemirror_mode": {
    "name": "ipython",
    "version": 3
   },
   "file_extension": ".py",
   "mimetype": "text/x-python",
   "name": "python",
   "nbconvert_exporter": "python",
   "pygments_lexer": "ipython3",
   "version": "3.7.6"
  }
 },
 "nbformat": 4,
 "nbformat_minor": 4
}
