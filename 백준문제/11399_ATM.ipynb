{
 "cells": [
  {
   "cell_type": "markdown",
   "metadata": {},
   "source": [
    "# 입력: sys.stdin.readline()\n",
    "* 파이썬에서 기본 입력은 input()을 사용하지만 백준에서는 시간 초과가 발생할 수 있음\n",
    "* 특히 반복 입력의 경우 시간 단축을 위해 sys.stdin.readline()을 사용(import sys)\n",
    "* 입력 시 \\n(개행문자)가 함께 입력되기 때문에 split()을 사용하여 삭제\n",
    "<br>\n",
    "\n",
    "* 주피터노트북에서는 이 코드가 실행 안됨. 주피터노트북에서는 input() 사용"
   ]
  },
  {
   "cell_type": "markdown",
   "metadata": {},
   "source": [
    "# ATM(문제번호: 11399)\n",
    "\n",
    "## 문제\n",
    "인하은행에는 ATM이 1대밖에 없다.<br>\n",
    "지금 이 ATM앞에 N명의 사람들이 줄을 서있다.<br>\n",
    "사람은 1번부터 N번까지 번호가 매겨져 있으며, i번 사람이 돈을 인출하는데 걸리는 시간은 Pi분이다.<br>\n",
    "\n",
    "사람들이 줄을 서는 순서에 따라서, 돈을 인출하는데 필요한 시간의 합이 달라지게 된다.<br>\n",
    "예를 들어, 총 5명이 있고, P1 = 3, P2 = 1, P3 = 4, P4 = 3, P5 = 2 인 경우를 생각해보자.<br>\n",
    "[1, 2, 3, 4, 5] 순서로 줄을 선다면, 1번 사람은 3분만에 돈을 뽑을 수 있다.<br>\n",
    "2번 사람은 1번 사람이 돈을 뽑을 때 까지 기다려야 하기 때문에, 3+1 = 4분이 걸리게 된다.<br>\n",
    "3번 사람은 1번, 2번 사람이 돈을 뽑을 때까지 기다려야 하기 때문에, 총 3+1+4 = 8분이 필요하게 된다.<br>\n",
    "4번 사람은 3+1+4+3 = 11분, 5번 사람은 3+1+4+3+2 = 13분이 걸리게 된다.<br>\n",
    "이 경우에 각 사람이 돈을 인출하는데 필요한 시간의 합은 3+4+8+11+13 = 39분이 된다.<br>\n",
    "\n",
    "줄을 [2, 5, 1, 4, 3] 순서로 줄을 서면, 2번 사람은 1분만에, 5번 사람은 1+2 = 3분, 1번 사람은 1+2+3 = 6분, 4번 사람은 1+2+3+3 = 9분, 3번 사람은 1+2+3+3+4 = 13분이 걸리게 된다.<br>\n",
    "각 사람이 돈을 인출하는데 필요한 시간의 합은 1+3+6+9+13 = 32분이다.<br>\n",
    "이 방법보다 더 필요한 시간의 합을 최소로 만들 수는 없다.<br>\n",
    "\n",
    "줄을 서 있는 사람의 수 N과 각 사람이 돈을 인출하는데 걸리는 시간 Pi가 주어졌을 때, 각 사람이 돈을 인출하는데 필요한 시간의 합의 최솟값을 구하는 프로그램을 작성하시오.<br>\n",
    "\n",
    "## 입력\n",
    "첫째 줄에 사람의 수 N(1 ≤ N ≤ 1,000)이 주어진다.<br>\n",
    "둘째 줄에는 각 사람이 돈을 인출하는데 걸리는 시간 Pi가 주어진다. (1 ≤ Pi ≤ 1,000)\n",
    "\n",
    "## 출력\n",
    "첫째 줄에 각 사람이 돈을 인출하는데 필요한 시간의 합의 최솟값을 출력한다."
   ]
  },
  {
   "cell_type": "code",
   "execution_count": 1,
   "metadata": {},
   "outputs": [
    {
     "name": "stdout",
     "output_type": "stream",
     "text": [
      "5\n",
      "3 1 4 3 2\n",
      "32\n"
     ]
    }
   ],
   "source": [
    "#import sys\n",
    "\n",
    "#number = int(sys.stdin.readline())\n",
    "#list_P = list(map(int, sys.stdin.readline().split()))\n",
    "number = int(input())\n",
    "list_P = list(map(int, input().split()))\n",
    "time = 0\n",
    "\n",
    "list_P.sort()\n",
    "\n",
    "for i in range(number):\n",
    "    for j in range(i + 1):\n",
    "        time += list_P[j]\n",
    "        \n",
    "print(time)"
   ]
  }
 ],
 "metadata": {
  "kernelspec": {
   "display_name": "Python 3",
   "language": "python",
   "name": "python3"
  },
  "language_info": {
   "codemirror_mode": {
    "name": "ipython",
    "version": 3
   },
   "file_extension": ".py",
   "mimetype": "text/x-python",
   "name": "python",
   "nbconvert_exporter": "python",
   "pygments_lexer": "ipython3",
   "version": "3.7.6"
  }
 },
 "nbformat": 4,
 "nbformat_minor": 4
}
