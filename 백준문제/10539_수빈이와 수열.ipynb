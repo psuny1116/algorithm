{
 "cells": [
  {
   "cell_type": "markdown",
   "metadata": {},
   "source": [
    "# 10539_브론즈2\n",
    "\n",
    "## 문제\n",
    "\n",
    "- 수빈이는 심심해서 수열을 가지고 놀고 있다. 먼저, 정수 수열 A를 쓴다. 그리고 그 아래에 정수 수열 A의 해당 항까지의 평균값을 그 항으로 하는 정수 수열 B를 쓴다. \n",
    "- 예를 들어, 수열 A가 1, 3, 2, 6, 8이라면, 수열 B는 1/1, (1+3)/2, (1+3+2)/3, (1+3+2+6)/4, (1+3+2+6+8)/5, 즉, 1, 2, 2, 3, 4가 된다. \n",
    "- 수열 B가 주어질 때, 수빈이의 규칙에 따른 수열 A는 뭘까?\n",
    "\n",
    "## 입력\n",
    "\n",
    "- 첫째 줄에는 수열 B의 길이만큼 정수 N(1 ≤ N ≤ 100)이 주어지고, 둘째 줄에는 수열 Bi를 이루는 N개의 정수가 주어진다. (1 ≤ Bi ≤ 109)\n",
    "\n",
    "## 출력\n",
    "\n",
    "- 첫째 줄에는 수열 A를 이루는 N개의 정수를 출력한다. (1 ≤ Ai ≤ 109)\n",
    "\n",
    "### 예제 입력 1 \n",
    "- 1\n",
    "- 2\n",
    "\n",
    "### 예제 출력 1 \n",
    "- 2\n",
    "\n",
    "### 예제 입력 2 \n",
    "- 4\n",
    "- 3 2 3 5\n",
    "\n",
    "### 예제 출력 2 \n",
    "- 3 1 5 11\n",
    "\n",
    "### 예제 입력 3 \n",
    "- 5\n",
    "- 1 2 2 3 4\n",
    "\n",
    "### 예제 출력 3 \n",
    "- 1 3 2 6 8"
   ]
  },
  {
   "cell_type": "code",
   "execution_count": 15,
   "metadata": {},
   "outputs": [
    {
     "name": "stdout",
     "output_type": "stream",
     "text": [
      "5\n",
      "1 2 2 3 4\n",
      "1 3 2 6 8 "
     ]
    }
   ],
   "source": [
    "b = int(input())\n",
    "b_list = list(map(int, input().split()))\n",
    "\n",
    "a_list = []\n",
    "for i in range(len(b_list)):\n",
    "    a_list.append(0)\n",
    "\n",
    "a_list[0] = b_list[0]\n",
    "\n",
    "for i in range(1, len(b_list)):\n",
    "    a_list[i] = b_list[i] * (i + 1) - (b_list[i - 1] * (i))\n",
    "    \n",
    "for i in a_list:\n",
    "    print(i, end = ' ')"
   ]
  }
 ],
 "metadata": {
  "kernelspec": {
   "display_name": "Python 3",
   "language": "python",
   "name": "python3"
  },
  "language_info": {
   "codemirror_mode": {
    "name": "ipython",
    "version": 3
   },
   "file_extension": ".py",
   "mimetype": "text/x-python",
   "name": "python",
   "nbconvert_exporter": "python",
   "pygments_lexer": "ipython3",
   "version": "3.7.6"
  }
 },
 "nbformat": 4,
 "nbformat_minor": 5
}
