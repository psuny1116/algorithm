{
 "cells": [
  {
   "cell_type": "markdown",
   "metadata": {},
   "source": [
    "# 입력: sys.stdin.readline()\n",
    "* 파이썬에서 기본 입력은 input()을 사용하지만 백준에서는 시간 초과가 발생할 수 있음\n",
    "* 특히 반복 입력의 경우 시간 단축을 위해 sys.stdin.readline()을 사용(import sys)\n",
    "* 입력 시 \\n(개행문자)가 함께 입력되기 때문에 split()을 사용하여 삭제\n",
    "<br>\n",
    "\n",
    "* 주피터노트북에서는 이 코드가 실행 안됨. 주피터노트북에서는 input() 사용"
   ]
  },
  {
   "cell_type": "markdown",
   "metadata": {},
   "source": [
    "# 덱(문제번호: 10866)\n",
    "\n",
    "## 문제\n",
    "정수를 저장하는 덱(Deque)를 구현한 다음, 입력으로 주어지는 명령을 처리하는 프로그램을 작성하시오.<br>\n",
    "\n",
    "명령은 총 여덟 가지이다.<br>\n",
    "\n",
    "push_front X: 정수 X를 덱의 앞에 넣는다.<br>\n",
    "push_back X: 정수 X를 덱의 뒤에 넣는다.<br>\n",
    "pop_front: 덱의 가장 앞에 있는 수를 빼고, 그 수를 출력한다. 만약, 덱에 들어있는 정수가 없는 경우에는 -1을 출력한다.<br>\n",
    "pop_back: 덱의 가장 뒤에 있는 수를 빼고, 그 수를 출력한다. 만약, 덱에 들어있는 정수가 없는 경우에는 -1을 출력한다.<br>\n",
    "size: 덱에 들어있는 정수의 개수를 출력한다.<br>\n",
    "empty: 덱이 비어있으면 1을, 아니면 0을 출력한다.<br>\n",
    "front: 덱의 가장 앞에 있는 정수를 출력한다. 만약 덱에 들어있는 정수가 없는 경우에는 -1을 출력한다.<br>\n",
    "back: 덱의 가장 뒤에 있는 정수를 출력한다. 만약 덱에 들어있는 정수가 없는 경우에는 -1을 출력한다.<br>\n",
    "\n",
    "## 입력\n",
    "첫째 줄에 주어지는 명령의 수 N (1 ≤ N ≤ 10,000)이 주어진다.<br>\n",
    "둘째 줄부터 N개의 줄에는 명령이 하나씩 주어진다.<br>\n",
    "주어지는 정수는 1보다 크거나 같고, 100,000보다 작거나 같다.<br>\n",
    "문제에 나와있지 않은 명령이 주어지는 경우는 없다.<br>\n",
    "\n",
    "## 출력\n",
    "출력해야하는 명령이 주어질 때마다, 한 줄에 하나씩 출력한다."
   ]
  },
  {
   "cell_type": "code",
   "execution_count": 3,
   "metadata": {},
   "outputs": [
    {
     "name": "stdout",
     "output_type": "stream",
     "text": [
      "15\n",
      "push_back 1\n",
      "push_front 2\n",
      "front\n",
      "2\n",
      "back\n",
      "1\n",
      "size\n",
      "2\n",
      "empty\n",
      "0\n",
      "pop_front\n",
      "2\n",
      "pop_back\n",
      "1\n",
      "pop_front\n",
      "-1\n",
      "size\n",
      "0\n",
      "empty\n",
      "1\n",
      "pop_back\n",
      "-1\n",
      "push_front 3\n",
      "empty\n",
      "0\n",
      "front\n",
      "3\n"
     ]
    }
   ],
   "source": [
    "#import sys\n",
    "from collections import deque\n",
    "\n",
    "#number = int(sys.stdin.readline())\n",
    "number = int(input())\n",
    "deq = deque()\n",
    "\n",
    "for i in range(number):\n",
    "    #text = sys.stdin.readline().strip()\n",
    "    text = input().strip()\n",
    "    \n",
    "    if text.split()[0] == 'push_front':\n",
    "        deq.appendleft(text.split()[1])\n",
    "        \n",
    "    elif text.split()[0] == 'push_back':\n",
    "        deq.append(text.split()[1])\n",
    "        \n",
    "    elif text == 'pop_front':\n",
    "        print(deq.popleft() if deq else -1)\n",
    "        \n",
    "    elif text == 'pop_back':\n",
    "        print(deq.pop() if deq else -1)\n",
    "        \n",
    "    elif text == 'size':\n",
    "        print(len(deq))\n",
    "        \n",
    "    elif text == 'empty':\n",
    "        print(0 if deq else 1)\n",
    "        \n",
    "    elif text == 'front':\n",
    "        print(deq[0] if deq else -1)\n",
    "        \n",
    "    elif text == 'back':\n",
    "        print(deq[-1] if deq else -1)"
   ]
  }
 ],
 "metadata": {
  "kernelspec": {
   "display_name": "Python 3",
   "language": "python",
   "name": "python3"
  },
  "language_info": {
   "codemirror_mode": {
    "name": "ipython",
    "version": 3
   },
   "file_extension": ".py",
   "mimetype": "text/x-python",
   "name": "python",
   "nbconvert_exporter": "python",
   "pygments_lexer": "ipython3",
   "version": "3.7.6"
  }
 },
 "nbformat": 4,
 "nbformat_minor": 4
}
