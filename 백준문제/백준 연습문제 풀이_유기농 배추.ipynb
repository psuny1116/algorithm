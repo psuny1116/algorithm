{
 "cells": [
  {
   "cell_type": "markdown",
   "metadata": {},
   "source": [
    "# 입력: sys.stdin.readline()\n",
    "* 파이썬에서 기본 입력은 input()을 사용하지만 백준에서는 시간 초과가 발생할 수 있음\n",
    "* 특히 반복 입력의 경우 시간 단축을 위해 sys.stdin.readline()을 사용(import sys)\n",
    "* 입력 시 \\n(개행문자)가 함께 입력되기 때문에 split()을 사용하여 삭제\n",
    "<br>\n",
    "\n",
    "* 주피터노트북에서는 이 코드가 실행 안됨. 주피터노트북에서는 input() 사용"
   ]
  },
  {
   "cell_type": "markdown",
   "metadata": {},
   "source": [
    "# 유기농 배추(문제번호: 1012)\n",
    "\n",
    "## 문제\n",
    "차세대 영농인 한나는 강원도 고랭지에서 유기농 배추를 재배하기로 하였다.<br>\n",
    "농약을 쓰지 않고 배추를 재배하려면 배추를 해충으로부터 보호하는 것이 중요하기 때문에, 한나는 해충 방지에 효과적인 배추흰지렁이를 구입하기로 결심한다.<br>\n",
    "이 지렁이는 배추근처에 서식하며 해충을 잡아 먹음으로써 배추를 보호한다.<br>\n",
    "특히, 어떤 배추에 배추흰지렁이가 한 마리라도 살고 있으면 이 지렁이는 인접한 다른 배추로 이동할 수 있어, 그 배추들 역시 해충으로부터 보호받을 수 있다. 한 배추의 상하좌우 네 방향에 다른 배추가 위치한 경우에 서로 인접해있는 것이다.<br>\n",
    "\n",
    "한나가 배추를 재배하는 땅은 고르지 못해서 배추를 군데군데 심어 놓았다.<br>\n",
    "배추들이 모여있는 곳에는 배추흰지렁이가 한 마리만 있으면 되므로 서로 인접해있는 배추들이 몇 군데에 퍼져있는지 조사하면 총 몇 마리의 지렁이가 필요한지 알 수 있다.<br>\n",
    "예를 들어 배추밭이 아래와 같이 구성되어 있으면 최소 5마리의 배추흰지렁이가 필요하다.<br>\n",
    "0은 배추가 심어져 있지 않은 땅이고, 1은 배추가 심어져 있는 땅을 나타낸다.<br>\n",
    "\n",
    "1\t1\t0\t0\t0\t0\t0\t0\t0\t0<br>\n",
    "0\t1\t0\t0\t0\t0\t0\t0\t0\t0<br>\n",
    "0\t0\t0\t0\t1\t0\t0\t0\t0\t0<br>\n",
    "0\t0\t0\t0\t1\t0\t0\t0\t0\t0<br>\n",
    "0\t0\t1\t1\t0\t0\t0\t1\t1\t1<br>\n",
    "0\t0\t0\t0\t1\t0\t0\t1\t1\t1<br>\n",
    "\n",
    "## 입력\n",
    "입력의 첫 줄에는 테스트 케이스의 개수 T가 주어진다.<br>\n",
    "그 다음 줄부터 각각의 테스트 케이스에 대해 첫째 줄에는 배추를 심은 배추밭의 가로길이 M(1 ≤ M ≤ 50)과 세로길이 N(1 ≤ N ≤ 50), 그리고 배추가 심어져 있는 위치의 개수 K(1 ≤ K ≤ 2500)이 주어진다.<br>\n",
    "그 다음 K줄에는 배추의 위치 X(0 ≤ X ≤ M-1), Y(0 ≤ Y ≤ N-1)가 주어진다. 두 배추의 위치가 같은 경우는 없다.\n",
    "\n",
    "## 출력\n",
    "각 테스트 케이스에 대해 필요한 최소의 배추흰지렁이 마리 수를 출력한다."
   ]
  },
  {
   "cell_type": "code",
   "execution_count": 2,
   "metadata": {},
   "outputs": [
    {
     "name": "stdout",
     "output_type": "stream",
     "text": [
      "1\n",
      "5 3 6\n",
      "0 2\n",
      "1 2\n",
      "2 2\n",
      "3 2\n",
      "4 2\n",
      "4 0\n",
      "2\n"
     ]
    }
   ],
   "source": [
    "# solution 함수\n",
    "\"\"\"\n",
    "입력받은 값을 중첩 리스트로 만들기\n",
    "count변수 0으로 시작\n",
    "중첩 for문을 사용하여 리스트의 모든 값을 검사\n",
    "    만약 해당 칸이 1이라면 주위의 1인 곳을 모두 찾기 위해 search 함수 실행\n",
    "    count값 1 증가\n",
    "for문 종료 후 count 값 출력\n",
    "\"\"\"\n",
    "\n",
    "# search 함수\n",
    "\"\"\"\n",
    "현재 위치를 기준으로 위, 아래, 오른쪽, 왼쪽 칸을 재귀 호출로 조사하기\n",
    "1이 들어있는 칸 = 0으로 변경\n",
    "0이 들어있는 칸 or m, n의 범위에서 벗어나는 인덱스 값이면 함수 종료\n",
    "연결된 모든 1이 0으로 변경되고 종료\n",
    "\"\"\"\n",
    "\n",
    "import sys\n",
    "sys.setrecursionlimit(100000)\n",
    "\n",
    "def search(x, y, m, n):\n",
    "    if x < 0 or x >= m or y < 0 or y >= n or farm[x][y] != 1:\n",
    "        return\n",
    "    farm[x][y] = 0\n",
    "    search(x - 1, y, m, n)\n",
    "    search(x + 1, y, m ,n)\n",
    "    search(x, y - 1, m, n)\n",
    "    search(x, y + 1, m, n)\n",
    "    \n",
    "def solution():\n",
    "    global farm\n",
    "    #m, n, k = map(int, sys.stdin.readline().split())\n",
    "    m, n, k = map(int, input().split())\n",
    "    farm = [[0 for _ in range(n)] for _ in range(m)]\n",
    "    \n",
    "    for i in range(k):\n",
    "        #x, y = map(int, sys.stdin.readline().split())\n",
    "        x, y = map(int, input().split())\n",
    "        farm[x][y] = 1\n",
    "        \n",
    "    count = 0\n",
    "    \n",
    "    for i in range(m):\n",
    "        for j in range(n):\n",
    "            if farm[i][j] == 1:\n",
    "                search(i, j, m, n)\n",
    "                count += 1\n",
    "                \n",
    "    print(count)\n",
    "    \n",
    "#test = int(sys.stdin.readline())\n",
    "test = int(input())\n",
    "farm = []\n",
    "\n",
    "for _ in range(test):\n",
    "    solution()"
   ]
  }
 ],
 "metadata": {
  "kernelspec": {
   "display_name": "Python 3",
   "language": "python",
   "name": "python3"
  },
  "language_info": {
   "codemirror_mode": {
    "name": "ipython",
    "version": 3
   },
   "file_extension": ".py",
   "mimetype": "text/x-python",
   "name": "python",
   "nbconvert_exporter": "python",
   "pygments_lexer": "ipython3",
   "version": "3.7.6"
  }
 },
 "nbformat": 4,
 "nbformat_minor": 4
}
