{
 "cells": [
  {
   "cell_type": "markdown",
   "metadata": {},
   "source": [
    "# 1236_브론즈1\n",
    "\n",
    "## 문제\n",
    "\n",
    "- 영식이는 직사각형 모양의 성을 가지고 있다. 성의 1층은 몇 명의 경비원에 의해서 보호되고 있다. 영식이는 모든 행과 모든 열에 한 명 이상의 경비원이 있으면 좋겠다고 생각했다.\n",
    "- 성의 크기와 경비원이 어디있는지 주어졌을 때, 몇 명의 경비원을 최소로 추가해야 영식이를 만족시키는지 구하는 프로그램을 작성하시오.\n",
    "\n",
    "## 입력\n",
    "\n",
    "- 첫째 줄에 성의 세로 크기 N과 가로 크기 M이 주어진다. N과 M은 50보다 작거나 같은 자연수이다. 둘째 줄부터 N개의 줄에는 성의 상태가 주어진다. 성의 상태는 .은 빈칸, X는 경비원이 있는 칸이다.\n",
    "\n",
    "## 출력\n",
    "\n",
    "- 첫째 줄에 추가해야 하는 경비원의 최솟값을 출력한다.\n",
    "\n",
    "### 예제 입력 1 \n",
    "- 4 4\n",
    "- ....\n",
    "- ....\n",
    "- ....\n",
    "- ....\n",
    "\n",
    "### 예제 출력 1 \n",
    "- 4\n",
    "\n",
    "### 예제 입력 2 \n",
    "- 3 5\n",
    "- XX...\n",
    "- .XX..\n",
    "- ...XX\n",
    "\n",
    "### 예제 출력 2 \n",
    "- 0\n",
    "\n",
    "### 예제 입력 3 \n",
    "- 5 8\n",
    "- ....XXXX\n",
    "- ........\n",
    "- XX.X.XX.\n",
    "- ........\n",
    "- ........\n",
    "\n",
    "### 예제 출력 3 \n",
    "- 3"
   ]
  },
  {
   "cell_type": "code",
   "execution_count": 3,
   "metadata": {},
   "outputs": [
    {
     "name": "stdout",
     "output_type": "stream",
     "text": [
      "5 8\n",
      "....XXXX\n",
      "........\n",
      "XX.X.XX.\n",
      "........\n",
      "........\n",
      "3\n"
     ]
    }
   ],
   "source": [
    "n, m = map(int, input().split())\n",
    "state = []\n",
    "\n",
    "for _ in range(n):\n",
    "    state.append(input())\n",
    "    \n",
    "row_count, col_count = 0, 0\n",
    "for i in range(n):\n",
    "    if 'X' not in state[i]:\n",
    "        row_count += 1\n",
    "for j in range(m):\n",
    "    if 'X' not in [state[i][j] for i in range(n)]:\n",
    "        col_count += 1\n",
    "\n",
    "print(max(row_count, col_count))"
   ]
  }
 ],
 "metadata": {
  "kernelspec": {
   "display_name": "Python 3",
   "language": "python",
   "name": "python3"
  },
  "language_info": {
   "codemirror_mode": {
    "name": "ipython",
    "version": 3
   },
   "file_extension": ".py",
   "mimetype": "text/x-python",
   "name": "python",
   "nbconvert_exporter": "python",
   "pygments_lexer": "ipython3",
   "version": "3.7.6"
  }
 },
 "nbformat": 4,
 "nbformat_minor": 5
}
