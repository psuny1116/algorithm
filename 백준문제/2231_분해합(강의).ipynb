{
 "cells": [
  {
   "cell_type": "markdown",
   "metadata": {},
   "source": [
    "# 2231_브론즈2\n",
    "\n",
    "## 문제\n",
    "\n",
    "- 어떤 자연수 N이 있을 때, 그 자연수 N의 분해합은 N과 N을 이루는 각 자리수의 합을 의미한다. 어떤 자연수 M의 분해합이 N인 경우, M을 N의 생성자라 한다. \n",
    "- 예를 들어, 245의 분해합은 256(=245+2+4+5)이 된다. 따라서 245는 256의 생성자가 된다. \n",
    "- 물론, 어떤 자연수의 경우에는 생성자가 없을 수도 있다. 반대로, 생성자가 여러 개인 자연수도 있을 수 있다.\n",
    "- 자연수 N이 주어졌을 때, N의 가장 작은 생성자를 구해내는 프로그램을 작성하시오.\n",
    "\n",
    "## 입력\n",
    "\n",
    "- 첫째 줄에 자연수 N(1 ≤ N ≤ 1,000,000)이 주어진다.\n",
    "\n",
    "## 출력\n",
    "\n",
    "- 첫째 줄에 답을 출력한다. 생성자가 없는 경우에는 0을 출력한다.\n",
    "\n",
    "### 예제 입력 1 \n",
    "- 216\n",
    "\n",
    "### 예제 출력 1 \n",
    "- 198"
   ]
  },
  {
   "cell_type": "code",
   "execution_count": 2,
   "metadata": {},
   "outputs": [
    {
     "name": "stdout",
     "output_type": "stream",
     "text": [
      "198\n",
      "216\n"
     ]
    }
   ],
   "source": [
    "# 문제와 반대(분해합을 구하는 경우)\n",
    "n = int(input())\n",
    "n = str(n)\n",
    "result = int(n)\n",
    "\n",
    "for i in range(len(n)):\n",
    "    tmp = n[i]\n",
    "    result += int(tmp)\n",
    "print(result)"
   ]
  },
  {
   "cell_type": "code",
   "execution_count": 9,
   "metadata": {},
   "outputs": [
    {
     "name": "stdout",
     "output_type": "stream",
     "text": [
      "216\n",
      "198\n"
     ]
    }
   ],
   "source": [
    "# 문제(생성자를 구하는 경우)\n",
    "\n",
    "n = int(input())\n",
    "result = 0\n",
    "\n",
    "for i in range(n + 1):\n",
    "    temp = sum(map(int, str(i)))\n",
    "    result = i + temp\n",
    "    if result == n:\n",
    "        print(i)\n",
    "        break\n",
    "    if i == n:\n",
    "        print(0)"
   ]
  },
  {
   "cell_type": "markdown",
   "metadata": {},
   "source": [
    "# 강의 해답\n",
    "\n",
    "- 완전탐색\n",
    "- 레벨1"
   ]
  },
  {
   "cell_type": "code",
   "execution_count": 1,
   "metadata": {},
   "outputs": [
    {
     "name": "stdout",
     "output_type": "stream",
     "text": [
      "216\n",
      "198\n"
     ]
    }
   ],
   "source": [
    "def decomposition(k):\n",
    "    ret = k\n",
    "    \n",
    "    while k > 0:\n",
    "        ret = ret + k % 10\n",
    "        k = k // 10\n",
    "    \n",
    "    return ret\n",
    "\n",
    "if __name__ == \"__main__\":\n",
    "    N = int(input())\n",
    "    M = 0\n",
    "    \n",
    "    # 0부터 N까지 완전 탐색을 통해 작은수부터 분해합이 N과 같아지는 최초의 수 찾기\n",
    "    \n",
    "    for i in range(N):\n",
    "        if N == decomposition(i):\n",
    "            M = i\n",
    "            break\n",
    "            \n",
    "    print(M)"
   ]
  }
 ],
 "metadata": {
  "kernelspec": {
   "display_name": "Python 3",
   "language": "python",
   "name": "python3"
  },
  "language_info": {
   "codemirror_mode": {
    "name": "ipython",
    "version": 3
   },
   "file_extension": ".py",
   "mimetype": "text/x-python",
   "name": "python",
   "nbconvert_exporter": "python",
   "pygments_lexer": "ipython3",
   "version": "3.7.6"
  }
 },
 "nbformat": 4,
 "nbformat_minor": 5
}
