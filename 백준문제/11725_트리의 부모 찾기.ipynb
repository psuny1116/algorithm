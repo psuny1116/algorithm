{
 "cells": [
  {
   "cell_type": "markdown",
   "metadata": {},
   "source": [
    "# 입력: sys.stdin.readline()\n",
    "* 파이썬에서 기본 입력은 input()을 사용하지만 백준에서는 시간 초과가 발생할 수 있음\n",
    "* 특히 반복 입력의 경우 시간 단축을 위해 sys.stdin.readline()을 사용(import sys)\n",
    "* 입력 시 \\n(개행문자)가 함께 입력되기 때문에 split()을 사용하여 삭제\n",
    "<br>\n",
    "\n",
    "* 주피터노트북에서는 이 코드가 실행 안됨. 주피터노트북에서는 input() 사용"
   ]
  },
  {
   "cell_type": "markdown",
   "metadata": {},
   "source": [
    "# 트리의 부모 찾기(문제번호: 11725)\n",
    "\n",
    "## 문제\n",
    "루트 없는 트리가 주어진다. 이때, 트리의 루트를 1이라고 정했을 때, 각 노드의 부모를 구하는 프로그램을 작성하시오.\n",
    "\n",
    "## 입력\n",
    "첫째 줄에 노드의 개수 N (2 ≤ N ≤ 100,000)이 주어진다. 둘째 줄부터 N-1개의 줄에 트리 상에서 연결된 두 정점이 주어진다.\n",
    "\n",
    "## 출력\n",
    "첫째 줄부터 N-1개의 줄에 각 노드의 부모 노드 번호를 2번 노드부터 순서대로 출력한다."
   ]
  },
  {
   "cell_type": "code",
   "execution_count": 1,
   "metadata": {},
   "outputs": [
    {
     "name": "stdout",
     "output_type": "stream",
     "text": [
      "7\n",
      "1 6\n",
      "6 3\n",
      "3 5\n",
      "4 1\n",
      "2 4\n",
      "4 7\n",
      "4\n",
      "6\n",
      "1\n",
      "3\n",
      "1\n",
      "4\n"
     ]
    }
   ],
   "source": [
    "# 각 노드에 연결된 정보로 연결 리스트 만들기\n",
    "# BFS로 모든 노드를 탐색하면서 새로운 노드가 큐에 추가될 때 처음 큐에서 꺼낸 v를 부모로 판단\n",
    "# 모든 부모 노드를 리스트로 저장\n",
    "# 2번 노드부터 출력\n",
    "\n",
    "#import sys\n",
    "from collections import deque\n",
    "\n",
    "#n = int(sys.stdin.readline())\n",
    "n = int(input())\n",
    "head = [0 for i in range(n + 1)]\n",
    "head[1] = 1\n",
    "tree = [[] for i in range(n + 1)]\n",
    "queue = deque([1])\n",
    "\n",
    "for _ in range(n - 1):\n",
    "    #v1, v2 = map(int, sys.stdin.readline().split())\n",
    "    v1, v2 = map(int, input().split())\n",
    "    tree[v1].append(v2)\n",
    "    tree[v2].append(v1)\n",
    "    \n",
    "while queue:\n",
    "    v = queue.popleft()\n",
    "    for i in tree[v]:\n",
    "        if not head[i]:\n",
    "            head[i] = v\n",
    "            queue.append(i)\n",
    "            \n",
    "for i in head[2:]:\n",
    "    print(i)"
   ]
  }
 ],
 "metadata": {
  "kernelspec": {
   "display_name": "Python 3",
   "language": "python",
   "name": "python3"
  },
  "language_info": {
   "codemirror_mode": {
    "name": "ipython",
    "version": 3
   },
   "file_extension": ".py",
   "mimetype": "text/x-python",
   "name": "python",
   "nbconvert_exporter": "python",
   "pygments_lexer": "ipython3",
   "version": "3.7.6"
  }
 },
 "nbformat": 4,
 "nbformat_minor": 4
}
