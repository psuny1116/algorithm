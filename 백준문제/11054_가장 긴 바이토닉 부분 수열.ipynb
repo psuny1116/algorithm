{
 "cells": [
  {
   "cell_type": "markdown",
   "metadata": {},
   "source": [
    "# 입력: sys.stdin.readline()\n",
    "* 파이썬에서 기본 입력은 input()을 사용하지만 백준에서는 시간 초과가 발생할 수 있음\n",
    "* 특히 반복 입력의 경우 시간 단축을 위해 sys.stdin.readline()을 사용(import sys)\n",
    "* 입력 시 \\n(개행문자)가 함께 입력되기 때문에 split()을 사용하여 삭제\n",
    "<br>\n",
    "\n",
    "* 주피터노트북에서는 이 코드가 실행 안됨. 주피터노트북에서는 input() 사용"
   ]
  },
  {
   "cell_type": "markdown",
   "metadata": {},
   "source": [
    "# 가장 긴 바이토닉 부분 수열(문제번호: 11054)\n",
    "\n",
    "## 문제\n",
    "수열 S가 어떤 수 Sk를 기준으로 S1 < S2 < ... Sk-1 < Sk > Sk+1 > ... SN-1 > SN을 만족한다면, 그 수열을 바이토닉 수열이라고 한다.<br>\n",
    "\n",
    "예를 들어, {10, 20, 30, 25, 20}과 {10, 20, 30, 40}, {50, 40, 25, 10} 은 바이토닉 수열이지만,  {1, 2, 3, 2, 1, 2, 3, 2, 1}과 {10, 20, 30, 40, 20, 30} 은 바이토닉 수열이 아니다.<br>\n",
    "\n",
    "수열 A가 주어졌을 때, 그 수열의 부분 수열 중 바이토닉 수열이면서 가장 긴 수열의 길이를 구하는 프로그램을 작성하시오.<br>\n",
    "\n",
    "## 입력\n",
    "첫째 줄에 수열 A의 크기 N이 주어지고, 둘째 줄에는 수열 A를 이루고 있는 Ai가 주어진다. (1 ≤ N ≤ 1,000, 1 ≤ Ai ≤ 1,000)\n",
    "\n",
    "## 출력\n",
    "첫째 줄에 수열 A의 부분 수열 중에서 가장 긴 바이토닉 수열의 길이를 출력한다."
   ]
  },
  {
   "cell_type": "code",
   "execution_count": 7,
   "metadata": {},
   "outputs": [
    {
     "name": "stdout",
     "output_type": "stream",
     "text": [
      "10\n",
      "1 5 2 1 4 3 4 5 2 1\n",
      "7\n"
     ]
    }
   ],
   "source": [
    "#import sys\n",
    "\n",
    "#n = int(sys.stdin.readline())\n",
    "n = int(input())\n",
    "list_a = list(map(int, input().split()))\n",
    "reverse_a = list_a[::-1]\n",
    "increase = [1] * n\n",
    "decrease = [1] * n\n",
    "\n",
    "for i in range(n):\n",
    "    for j in range(i):\n",
    "        if list_a[i] > list_a[j]:\n",
    "            increase[i] = max(increase[i], increase[j] + 1)\n",
    "        if reverse_a[i] > reverse_a[j]:\n",
    "            decrease[i] = max(decrease[i], decrease[j] + 1)\n",
    "            \n",
    "decrease.reverse()\n",
    "\n",
    "for i in range(n):\n",
    "    increase[i] = increase[i] + decrease[i]\n",
    "    \n",
    "print(max(increase) - 1)"
   ]
  }
 ],
 "metadata": {
  "kernelspec": {
   "display_name": "Python 3",
   "language": "python",
   "name": "python3"
  },
  "language_info": {
   "codemirror_mode": {
    "name": "ipython",
    "version": 3
   },
   "file_extension": ".py",
   "mimetype": "text/x-python",
   "name": "python",
   "nbconvert_exporter": "python",
   "pygments_lexer": "ipython3",
   "version": "3.7.6"
  }
 },
 "nbformat": 4,
 "nbformat_minor": 4
}
