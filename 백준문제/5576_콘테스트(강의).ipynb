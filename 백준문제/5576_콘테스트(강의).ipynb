{
 "cells": [
  {
   "cell_type": "markdown",
   "metadata": {},
   "source": [
    "# 5576_브론즈2\n",
    "\n",
    "## 문제\n",
    "\n",
    "- 최근 온라인에서의 프로그래밍 콘테스트가 열렸다. W 대학과 K 대학의 컴퓨터 클럽은 이전부터 라이벌 관계에있어,이 콘테스트를 이용하여 양자의 우열을 정하자라는 것이되었다.\n",
    "- 이번이 두 대학에서 모두 10 명씩이 콘테스트에 참여했다. 긴 논의 끝에 참가한 10 명 중 득점이 높은 사람에서 3 명의 점수를 합산하여 대학의 득점으로하기로 했다.\n",
    "- W 대학 및 K 대학 참가자의 점수 데이터가 주어진다. 이때, 각각의 대학의 점수를 계산하는 프로그램을 작성하라.\n",
    "\n",
    "## 입력\n",
    "\n",
    "- 입력은 20 행으로 구성된다. 1 번째 줄부터 10 번째 줄에는 W 대학의 각 참가자의 점수를 나타내는 정수가 11 번째 줄부터 20 번째 줄에는 K 대학의 각 참가자의 점수를 나타내는 정수가 적혀있다. 이 정수는 모두 0 이상 100 이하이다.\n",
    "\n",
    "## 출력\n",
    "\n",
    "- W 대학 점수와 K 대학의 점수를 순서대로 공백으로 구분하여 출력하라.\n",
    "\n",
    "### 예제 입력 1 \n",
    "- 23\n",
    "- 23\n",
    "- 20\n",
    "- 15\n",
    "- 15\n",
    "- 14\n",
    "- 13\n",
    "- 9\n",
    "- 7\n",
    "- 6\n",
    "- 25\n",
    "- 19\n",
    "- 17\n",
    "- 17\n",
    "- 16\n",
    "- 13\n",
    "- 12\n",
    "- 11\n",
    "- 9\n",
    "- 5\n",
    "\n",
    "### 예제 출력 1 \n",
    "- 66 61\n",
    "\n",
    "### 예제 입력 2 \n",
    "- 17\n",
    "- 25\n",
    "- 23\n",
    "- 25\n",
    "- 79\n",
    "- 29\n",
    "- 1\n",
    "- 61\n",
    "- 59\n",
    "- 100\n",
    "- 44\n",
    "- 74\n",
    "- 94\n",
    "- 57\n",
    "- 13\n",
    "- 54\n",
    "- 82\n",
    "- 0\n",
    "- 42\n",
    "- 45\n",
    "\n",
    "### 예제 출력 2 \n",
    "- 240 250"
   ]
  },
  {
   "cell_type": "code",
   "execution_count": 8,
   "metadata": {},
   "outputs": [
    {
     "name": "stdout",
     "output_type": "stream",
     "text": [
      "23\n",
      "23\n",
      "20\n",
      "15\n",
      "15\n",
      "14\n",
      "13\n",
      "9\n",
      "7\n",
      "6\n",
      "25\n",
      "19\n",
      "17\n",
      "17\n",
      "16\n",
      "13\n",
      "12\n",
      "11\n",
      "9\n",
      "5\n",
      "66 61\n"
     ]
    }
   ],
   "source": [
    "n = list(int(input()) for _ in range(20))\n",
    "w_list = sorted(n[:10])\n",
    "k_list = sorted(n[10:])\n",
    "\n",
    "w = w_list[-3:]\n",
    "k = k_list[-3:]\n",
    "print(sum(w), sum(k))"
   ]
  },
  {
   "cell_type": "markdown",
   "metadata": {},
   "source": [
    "# 강의 해답\n",
    "\n",
    "- 정렬\n",
    "- 레벨1"
   ]
  },
  {
   "cell_type": "code",
   "execution_count": 1,
   "metadata": {},
   "outputs": [
    {
     "name": "stdout",
     "output_type": "stream",
     "text": [
      "23\n",
      "23\n",
      "20\n",
      "15\n",
      "15\n",
      "14\n",
      "13\n",
      "9\n",
      "7\n",
      "6\n",
      "25\n",
      "19\n",
      "17\n",
      "17\n",
      "16\n",
      "13\n",
      "12\n",
      "11\n",
      "9\n",
      "5\n",
      "66 61\n"
     ]
    }
   ],
   "source": [
    "if __name__ == '__main__':\n",
    "    w, k = [], []\n",
    "    for i in range(10):\n",
    "        w.append(int(input()))\n",
    "    \n",
    "    for i in range(10):\n",
    "        k.append(int(input()))\n",
    "        \n",
    "    w.sort(reverse = True)\n",
    "    k.sort(reverse = True)\n",
    "    \n",
    "    print(sum(w[:3]), sum(k[:3]))"
   ]
  }
 ],
 "metadata": {
  "kernelspec": {
   "display_name": "Python 3",
   "language": "python",
   "name": "python3"
  },
  "language_info": {
   "codemirror_mode": {
    "name": "ipython",
    "version": 3
   },
   "file_extension": ".py",
   "mimetype": "text/x-python",
   "name": "python",
   "nbconvert_exporter": "python",
   "pygments_lexer": "ipython3",
   "version": "3.7.6"
  }
 },
 "nbformat": 4,
 "nbformat_minor": 5
}
