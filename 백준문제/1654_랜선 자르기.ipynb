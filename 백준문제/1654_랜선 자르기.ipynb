{
 "cells": [
  {
   "cell_type": "markdown",
   "metadata": {},
   "source": [
    "# 입력: sys.stdin.readline()\n",
    "* 파이썬에서 기본 입력은 input()을 사용하지만 백준에서는 시간 초과가 발생할 수 있음\n",
    "* 특히 반복 입력의 경우 시간 단축을 위해 sys.stdin.readline()을 사용(import sys)\n",
    "* 입력 시 \\n(개행문자)가 함께 입력되기 때문에 split()을 사용하여 삭제\n",
    "<br>\n",
    "\n",
    "* 주피터노트북에서는 이 코드가 실행 안됨. 주피터노트북에서는 input() 사용"
   ]
  },
  {
   "cell_type": "markdown",
   "metadata": {},
   "source": [
    "# 랜선 자르기(문제번호: 1654)\n",
    "\n",
    "## 문제\n",
    "집에서 시간을 보내던 오영식은 박성원의 부름을 받고 급히 달려왔다.<br>\n",
    "박성원이 캠프 때 쓸 N개의 랜선을 만들어야 하는데 너무 바빠서 영식이에게 도움을 청했다.<br>\n",
    "\n",
    "이미 오영식은 자체적으로 K개의 랜선을 가지고 있다.<br>\n",
    "그러나 K개의 랜선은 길이가 제각각이다.<br>\n",
    "박성원은 랜선을 모두 N개의 같은 길이의 랜선으로 만들고 싶었기 때문에 K개의 랜선을 잘라서 만들어야 한다.<br>\n",
    "예를 들어 300cm 짜리 랜선에서 140cm 짜리 랜선을 두 개 잘라내면 20cm는 버려야 한다. (이미 자른 랜선은 붙일 수 없다.)<br>\n",
    "\n",
    "편의를 위해 랜선을 자르거나 만들 때 손실되는 길이는 없다고 가정하며, 기존의 K개의 랜선으로 N개의 랜선을 만들 수 없는 경우는 없다고 가정하자.<br>\n",
    "그리고 자를 때는 항상 센티미터 단위로 정수길이만큼 자른다고 가정하자.<br>\n",
    "N개보다 많이 만드는 것도 N개를 만드는 것에 포함된다. <br>\n",
    "이때 만들 수 있는 최대 랜선의 길이를 구하는 프로그램을 작성하시오.\n",
    "\n",
    "## 입력\n",
    "첫째 줄에는 오영식이 이미 가지고 있는 랜선의 개수 K, 그리고 필요한 랜선의 개수 N이 입력된다.<br>\n",
    "K는 1이상 10,000이하의 정수이고, N은 1이상 1,000,000이하의 정수이다.<br>\n",
    "그리고 항상 K ≦ N 이다.<br>\n",
    "그 후 K줄에 걸쳐 이미 가지고 있는 각 랜선의 길이가 센티미터 단위의 정수로 입력된다.<br>\n",
    "랜선의 길이는 2^31-1보다 작거나 같은 자연수이다.\n",
    "\n",
    "## 출력\n",
    "첫째 줄에 N개를 만들 수 있는 랜선의 최대 길이를 센티미터 단위의 정수로 출력한다."
   ]
  },
  {
   "cell_type": "code",
   "execution_count": 1,
   "metadata": {},
   "outputs": [
    {
     "name": "stdout",
     "output_type": "stream",
     "text": [
      "4 11\n",
      "802\n",
      "743\n",
      "457\n",
      "539\n",
      "200\n"
     ]
    }
   ],
   "source": [
    "#import sys\n",
    "#k, number = map(int, sys.stdin.readline().split())\n",
    "k, number = map(int, input().split())\n",
    "\n",
    "line = []\n",
    "\n",
    "for i in range(k):\n",
    "    #line.append(int(sys.stdin.readline()))\n",
    "    line.append(int(input()))\n",
    "    \n",
    "lineMin = 1\n",
    "lineMax = max(line)\n",
    "\n",
    "while lineMin <= lineMax:\n",
    "    lineLength = (lineMin + lineMax) // 2\n",
    "    lineNumber = 0\n",
    "    for i in line:\n",
    "        lineNumber += i // lineLength\n",
    "        \n",
    "    if lineNumber >= number:\n",
    "        lineMin = lineLength + 1\n",
    "    elif lineNumber < number:\n",
    "        lineMax = lineLength - 1\n",
    "        \n",
    "print(lineMax)"
   ]
  }
 ],
 "metadata": {
  "kernelspec": {
   "display_name": "Python 3",
   "language": "python",
   "name": "python3"
  },
  "language_info": {
   "codemirror_mode": {
    "name": "ipython",
    "version": 3
   },
   "file_extension": ".py",
   "mimetype": "text/x-python",
   "name": "python",
   "nbconvert_exporter": "python",
   "pygments_lexer": "ipython3",
   "version": "3.7.6"
  }
 },
 "nbformat": 4,
 "nbformat_minor": 4
}
