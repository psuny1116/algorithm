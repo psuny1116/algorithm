{
 "cells": [
  {
   "cell_type": "markdown",
   "metadata": {},
   "source": [
    "# 그리디(greedy)\n",
    "* 현재 생황에서 가장 좋은 선택만을 반복해서 고르는 알고리즘\n",
    "* 모든 상황에서 최적의 해를 구할 수는 없지만 최적의 해가 보장되는 조건에서는 쉽고 빠르게 문제를 해결할 수 있음\n",
    "* 그리디 알고리즘이 적합한 문제\n",
    "    - 탐욕 속성이 포함된 경우(ex. 최소 비용, 최대 넓이, 최단 경로 등)\n",
    "    - 문제의 해결 방법이 반복되는 하위 부분 문제에 대해서도 함께 적용하는 경우(최적 부분 구조)"
   ]
  },
  {
   "cell_type": "markdown",
   "metadata": {},
   "source": [
    "# 거스름 돈\n",
    "* 동전 종류: 500, 100, 50, 10\n",
    "* 모든 물건의 가격이 1000원 이하이고, 모든 손님이 구매 금액으로 1000원짜리 지폐 1장을 지불함\n",
    "* 동전의 종류 상관없이 거스름 돈의 최소 개수를 구하시오\n",
    "    - 물건 금액: 420원, 거스름돈: 580원, 동전: 500/50/10/10/10(5개)\n",
    "* 그리디 알고리즘 확인\n",
    "    - 탐욕 속성이 포함된 경우(ex. 최소 비용, 최대 넓이, 최단 경로 등) = 충족\n",
    "    - 문제의 해결 방법이 반복되는 하위 부분 문제에 대해서도 함꼐 적용하는 경우(최적 부분 구조) = 충족\n",
    "    - 동전 종류가 500, 290, 100, 50, 10으로 바뀔 경우 최적의 해 보장 x = 그리디의 선택이 최적의 해 보장 안함"
   ]
  },
  {
   "cell_type": "code",
   "execution_count": 2,
   "metadata": {},
   "outputs": [
    {
     "name": "stdout",
     "output_type": "stream",
     "text": [
      "420\n",
      "5\n"
     ]
    }
   ],
   "source": [
    "# 거스름돈: 동전의 종류 상관없이 거스름 돈의 최소 개수 구하기\n",
    "\n",
    "# 동전 종류: 500, 100, 50, 10\n",
    "# 입력: 1000원 이하 금액\n",
    "\n",
    "coin = [500, 100, 50, 10]\n",
    "\n",
    "price = 1000 - int(input())     # 입력: 420원\n",
    "\n",
    "index = 0\n",
    "count = 0\n",
    "\n",
    "while price != 0:\n",
    "    if price >= coin[index]:\n",
    "        price = price - coin[index]\n",
    "        count += 1\n",
    "    else:\n",
    "        index += 1\n",
    "        \n",
    "print(count)"
   ]
  }
 ],
 "metadata": {
  "kernelspec": {
   "display_name": "Python 3",
   "language": "python",
   "name": "python3"
  },
  "language_info": {
   "codemirror_mode": {
    "name": "ipython",
    "version": 3
   },
   "file_extension": ".py",
   "mimetype": "text/x-python",
   "name": "python",
   "nbconvert_exporter": "python",
   "pygments_lexer": "ipython3",
   "version": "3.7.6"
  }
 },
 "nbformat": 4,
 "nbformat_minor": 4
}
