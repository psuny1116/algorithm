{
 "cells": [
  {
   "cell_type": "markdown",
   "metadata": {},
   "source": [
    "# 정렬(sort)\n",
    "* 데이터를 순서대로 정리하는 것(오름차순, 내림차순)\n",
    "* 파이썬에서는 sorted(iterable) 함수를 사용하거나 리스트의 list.sort() 메소드로 정렬을 실행할 수 있음\n",
    "* 선택, 버블, 삽입, 퀵, 계수 정렬 등 다양한 정렬 알고리즘이 존재\n",
    "* 대부분의 경우 직접 알고리즘을 작성하여 정렬할 때보다 파이썬 함수와 메소드를 사용하는 것이 더 빠르게 작동\n",
    "* sorted(iterable) 함수는 정렬한 새로운 리스트를 반환\n",
    "* list.sort() 메소드는 기존 리스트를 정렬\n",
    "* 둘 다 reverse = False가 디폴트. 그러므로 오름차순을 할 때는 생략 가능. 내림차순을 할 때는 reverse = True"
   ]
  },
  {
   "cell_type": "code",
   "execution_count": 1,
   "metadata": {},
   "outputs": [
    {
     "data": {
      "text/plain": [
       "[3, 1, 5, 9, 8, 6, 7, 4, 10, 2]"
      ]
     },
     "execution_count": 1,
     "metadata": {},
     "output_type": "execute_result"
    }
   ],
   "source": [
    "# 정렬 함수 sorted(), 메소드 sort()\n",
    "\n",
    "li1 = [3, 1, 5, 9, 8, 6, 7, 4, 10, 2]\n",
    "li1"
   ]
  },
  {
   "cell_type": "code",
   "execution_count": 2,
   "metadata": {},
   "outputs": [
    {
     "data": {
      "text/plain": [
       "[1, 2, 3, 4, 5, 6, 7, 8, 9, 10]"
      ]
     },
     "execution_count": 2,
     "metadata": {},
     "output_type": "execute_result"
    }
   ],
   "source": [
    "li2 = sorted(li1)\n",
    "li2"
   ]
  },
  {
   "cell_type": "code",
   "execution_count": 3,
   "metadata": {},
   "outputs": [
    {
     "data": {
      "text/plain": [
       "[10, 9, 8, 7, 6, 5, 4, 3, 2, 1]"
      ]
     },
     "execution_count": 3,
     "metadata": {},
     "output_type": "execute_result"
    }
   ],
   "source": [
    "li3 = sorted(li1, reverse = True)\n",
    "li3"
   ]
  },
  {
   "cell_type": "code",
   "execution_count": 4,
   "metadata": {},
   "outputs": [
    {
     "data": {
      "text/plain": [
       "[1, 2, 3, 4, 5, 6, 7, 8, 9, 10]"
      ]
     },
     "execution_count": 4,
     "metadata": {},
     "output_type": "execute_result"
    }
   ],
   "source": [
    "li1.sort()\n",
    "li1"
   ]
  },
  {
   "cell_type": "code",
   "execution_count": 5,
   "metadata": {},
   "outputs": [
    {
     "data": {
      "text/plain": [
       "[10, 9, 8, 7, 6, 5, 4, 3, 2, 1]"
      ]
     },
     "execution_count": 5,
     "metadata": {},
     "output_type": "execute_result"
    }
   ],
   "source": [
    "li1.sort(reverse = True)\n",
    "li1"
   ]
  },
  {
   "cell_type": "markdown",
   "metadata": {},
   "source": [
    "# 선택정렬(selection sort)\n",
    "* 매번 가장 작은 값을 선택하고 위치를 교환하는 정렬\n",
    "* 데이터 중 가장 작은 값을 첫 번째 값과 바꾸고 그 다음 작은 값을 찾아 두 번째 값과 바꿈\n",
    "* 데이터의 크기가 n일 때 위 과정을 n-1번 반복하면 정렬이 완료됨\n",
    "* 가장 구현이 쉬운 알고리즘 중 하나이지만 모든 값을 반복하며 비교하기 때문에 속도가 느림"
   ]
  },
  {
   "cell_type": "code",
   "execution_count": 11,
   "metadata": {},
   "outputs": [],
   "source": [
    "# 선택정렬\n",
    "\n",
    "def selectionSort(array):\n",
    "    for i in range(len(array)):\n",
    "        min_idx = i\n",
    "        for j in range(i + 1, len(array)):\n",
    "            if array[j] < array[min_idx]:\n",
    "                min_idx = j\n",
    "        array[i], array[min_idx] = array[min_idx], array[i]\n",
    "        print(array)     # 어떻게 실행되는지 보여주기 위한 코드\n",
    "    return array\n",
    "\n",
    "li = [3, 1, 5, 9, 8, 6, 7, 4, 10, 2]"
   ]
  },
  {
   "cell_type": "code",
   "execution_count": 12,
   "metadata": {},
   "outputs": [
    {
     "name": "stdout",
     "output_type": "stream",
     "text": [
      "[1, 3, 5, 9, 8, 6, 7, 4, 10, 2]\n",
      "[1, 2, 5, 9, 8, 6, 7, 4, 10, 3]\n",
      "[1, 2, 3, 9, 8, 6, 7, 4, 10, 5]\n",
      "[1, 2, 3, 4, 8, 6, 7, 9, 10, 5]\n",
      "[1, 2, 3, 4, 5, 6, 7, 9, 10, 8]\n",
      "[1, 2, 3, 4, 5, 6, 7, 9, 10, 8]\n",
      "[1, 2, 3, 4, 5, 6, 7, 9, 10, 8]\n",
      "[1, 2, 3, 4, 5, 6, 7, 8, 10, 9]\n",
      "[1, 2, 3, 4, 5, 6, 7, 8, 9, 10]\n",
      "[1, 2, 3, 4, 5, 6, 7, 8, 9, 10]\n"
     ]
    },
    {
     "data": {
      "text/plain": [
       "[1, 2, 3, 4, 5, 6, 7, 8, 9, 10]"
      ]
     },
     "execution_count": 12,
     "metadata": {},
     "output_type": "execute_result"
    }
   ],
   "source": [
    "selectionSort(li)"
   ]
  },
  {
   "cell_type": "markdown",
   "metadata": {},
   "source": [
    "# 버블정렬(bubble sort)\n",
    "* 인접한 두 데이터를 비교하며 교환하는 정렬\n",
    "* n번째 값과 n+1번째 값을 비교하여 더 큰 값을 뒤로 보내는 작업을 배열의 끝까지 반복함\n",
    "* 맨 뒤의 값부터 정렬이 완료됨\n",
    "* 선택 정렬과 마찬가지로 비교 횟수가 많은 방식이기 때문에 데이터의 수가 많을수록 비효율적\n",
    "* 데이터가 거의 정렬되어 있는 상태라면 빠른 속도로 정렬을 완료할 수 있음"
   ]
  },
  {
   "cell_type": "code",
   "execution_count": 17,
   "metadata": {},
   "outputs": [],
   "source": [
    "# 버블정렬\n",
    "\n",
    "def bubbleSort(array):\n",
    "    for i in range(len(array) - 1):\n",
    "        for j in range(len(array) - 1 - i):\n",
    "            if array[j] > array[j + 1]:\n",
    "                array[j], array[j + 1] = array[j + 1], array[j]\n",
    "        print(array)\n",
    "    return array\n",
    "\n",
    "li = [3, 1, 5, 9, 8, 6, 7, 4, 10, 2]"
   ]
  },
  {
   "cell_type": "code",
   "execution_count": 18,
   "metadata": {},
   "outputs": [
    {
     "name": "stdout",
     "output_type": "stream",
     "text": [
      "[1, 3, 5, 8, 6, 7, 4, 9, 2, 10]\n",
      "[1, 3, 5, 6, 7, 4, 8, 2, 9, 10]\n",
      "[1, 3, 5, 6, 4, 7, 2, 8, 9, 10]\n",
      "[1, 3, 5, 4, 6, 2, 7, 8, 9, 10]\n",
      "[1, 3, 4, 5, 2, 6, 7, 8, 9, 10]\n",
      "[1, 3, 4, 2, 5, 6, 7, 8, 9, 10]\n",
      "[1, 3, 2, 4, 5, 6, 7, 8, 9, 10]\n",
      "[1, 2, 3, 4, 5, 6, 7, 8, 9, 10]\n",
      "[1, 2, 3, 4, 5, 6, 7, 8, 9, 10]\n"
     ]
    },
    {
     "data": {
      "text/plain": [
       "[1, 2, 3, 4, 5, 6, 7, 8, 9, 10]"
      ]
     },
     "execution_count": 18,
     "metadata": {},
     "output_type": "execute_result"
    }
   ],
   "source": [
    "bubbleSort(li)"
   ]
  },
  {
   "cell_type": "markdown",
   "metadata": {},
   "source": [
    "# 삽입정렬(insertion sort)\n",
    "* 특정한 값을 찾아 적절한 위치에 삽입하는 정렬\n",
    "* 첫번째 값을 기준으로 두번째 값부터 마지막 값까지 순서대로 위치를 찾아 삽입함\n",
    "* 만약 데이터가 거의 정렬되어 있는 상태라면 빠른 속도를 보이지만, 그렇지 않을 때에는 선택, 버블 정렬과 마찬가지로 속도가 느린 편"
   ]
  },
  {
   "cell_type": "code",
   "execution_count": 19,
   "metadata": {},
   "outputs": [],
   "source": [
    "# 삽입정렬\n",
    "\n",
    "def insertionSort(array):\n",
    "    for i in range(1, len(array)):\n",
    "        for j in range(i, 0, -1):\n",
    "            if array[j - 1] > array[j]:\n",
    "                array[j - 1], array[j] = array[j], array[j - 1]\n",
    "            else:\n",
    "                break\n",
    "        print(array)\n",
    "    return array\n",
    "\n",
    "li = [3, 1, 5, 9, 8, 6, 7, 4, 10, 2]"
   ]
  },
  {
   "cell_type": "code",
   "execution_count": 20,
   "metadata": {},
   "outputs": [
    {
     "name": "stdout",
     "output_type": "stream",
     "text": [
      "[1, 3, 5, 9, 8, 6, 7, 4, 10, 2]\n",
      "[1, 3, 5, 9, 8, 6, 7, 4, 10, 2]\n",
      "[1, 3, 5, 9, 8, 6, 7, 4, 10, 2]\n",
      "[1, 3, 5, 8, 9, 6, 7, 4, 10, 2]\n",
      "[1, 3, 5, 6, 8, 9, 7, 4, 10, 2]\n",
      "[1, 3, 5, 6, 7, 8, 9, 4, 10, 2]\n",
      "[1, 3, 4, 5, 6, 7, 8, 9, 10, 2]\n",
      "[1, 3, 4, 5, 6, 7, 8, 9, 10, 2]\n",
      "[1, 2, 3, 4, 5, 6, 7, 8, 9, 10]\n"
     ]
    },
    {
     "data": {
      "text/plain": [
       "[1, 2, 3, 4, 5, 6, 7, 8, 9, 10]"
      ]
     },
     "execution_count": 20,
     "metadata": {},
     "output_type": "execute_result"
    }
   ],
   "source": [
    "insertionSort(li)"
   ]
  },
  {
   "cell_type": "markdown",
   "metadata": {},
   "source": [
    "# 계수정렬(counting sort)\n",
    "* 숫자의 개수를 카운팅하는 정렬(카운팅 정렬)\n",
    "* 데이터의 범위가 모두 포함되는 새로운 리스트를 만들고 모든 값을 0으로 채운 뒤 데이터 값을 인덱스로 변환하여 1씩 증가시킴\n",
    "* 데이터의 범위가 제한되어 있을 때에 한해서 가장 빠른 속도로 정렬 가능"
   ]
  },
  {
   "cell_type": "code",
   "execution_count": 21,
   "metadata": {},
   "outputs": [],
   "source": [
    "# 계수정렬\n",
    "\n",
    "def countingSort(array):\n",
    "    count_array = [0] * (max(array) + 1)\n",
    "    \n",
    "    for i in range(len(array)):\n",
    "        count_array[array[i]] += 1\n",
    "        print(count_array)\n",
    "        \n",
    "    array.clear()\n",
    "    \n",
    "    for i in range(len(count_array)):\n",
    "        for j in range(count_array[i]):\n",
    "            array.append(i)\n",
    "        print(array)\n",
    "        \n",
    "    return array\n",
    "\n",
    "li = [3, 1, 3, 9, 8, 3, 7, 4, 10, 2]"
   ]
  },
  {
   "cell_type": "code",
   "execution_count": 22,
   "metadata": {},
   "outputs": [
    {
     "name": "stdout",
     "output_type": "stream",
     "text": [
      "[0, 0, 0, 1, 0, 0, 0, 0, 0, 0, 0]\n",
      "[0, 1, 0, 1, 0, 0, 0, 0, 0, 0, 0]\n",
      "[0, 1, 0, 2, 0, 0, 0, 0, 0, 0, 0]\n",
      "[0, 1, 0, 2, 0, 0, 0, 0, 0, 1, 0]\n",
      "[0, 1, 0, 2, 0, 0, 0, 0, 1, 1, 0]\n",
      "[0, 1, 0, 3, 0, 0, 0, 0, 1, 1, 0]\n",
      "[0, 1, 0, 3, 0, 0, 0, 1, 1, 1, 0]\n",
      "[0, 1, 0, 3, 1, 0, 0, 1, 1, 1, 0]\n",
      "[0, 1, 0, 3, 1, 0, 0, 1, 1, 1, 1]\n",
      "[0, 1, 1, 3, 1, 0, 0, 1, 1, 1, 1]\n",
      "[]\n",
      "[1]\n",
      "[1, 2]\n",
      "[1, 2, 3, 3, 3]\n",
      "[1, 2, 3, 3, 3, 4]\n",
      "[1, 2, 3, 3, 3, 4]\n",
      "[1, 2, 3, 3, 3, 4]\n",
      "[1, 2, 3, 3, 3, 4, 7]\n",
      "[1, 2, 3, 3, 3, 4, 7, 8]\n",
      "[1, 2, 3, 3, 3, 4, 7, 8, 9]\n",
      "[1, 2, 3, 3, 3, 4, 7, 8, 9, 10]\n"
     ]
    },
    {
     "data": {
      "text/plain": [
       "[1, 2, 3, 3, 3, 4, 7, 8, 9, 10]"
      ]
     },
     "execution_count": 22,
     "metadata": {},
     "output_type": "execute_result"
    }
   ],
   "source": [
    "countingSort(li)"
   ]
  },
  {
   "cell_type": "markdown",
   "metadata": {},
   "source": [
    "# 퀵정렬(quick sort)\n",
    "* 기준 값(pivot)을 두고 기준보다 작은 값은 앞으로, 큰 값은 뒤로 데이터를 분리하는 정렬\n",
    "* pivot을 기준으로 데이터를 분류 후 둘로 나뉜 부분 리스트에 대해 같은 방법으로 정렬을 반복함\n",
    "* 부분 리스트가 더 이상 분할이 불가능할 때까지 나누다가 각 부분 리스트의 정렬이 완료되면 다시 합치는 방식\n",
    "* 데이터의 양이 많을 때에도 빠른 속도로 정렬을 완료할 수 있기 때문에 가장 많이 사용되는 정렬 중 하나"
   ]
  },
  {
   "cell_type": "code",
   "execution_count": 23,
   "metadata": {},
   "outputs": [],
   "source": [
    "# 퀵정렬\n",
    "\n",
    "def quickSort(array):\n",
    "    print(array)\n",
    "    if len(array) <= 1:\n",
    "        return array\n",
    "    \n",
    "    pivot = array[0]\n",
    "    left, right = [], []\n",
    "    \n",
    "    for i in range(1, len(array)):\n",
    "        if array[i] <= pivot:\n",
    "            left.append(array[i])\n",
    "        elif array[i] > pivot:\n",
    "            right.append(array[i])\n",
    "            \n",
    "    return quickSort(left) + [pivot] + quickSort(right)\n",
    "\n",
    "li = [3, 1, 5, 9, 8, 6, 7, 4, 10, 2]"
   ]
  },
  {
   "cell_type": "code",
   "execution_count": 24,
   "metadata": {},
   "outputs": [
    {
     "name": "stdout",
     "output_type": "stream",
     "text": [
      "[3, 1, 5, 9, 8, 6, 7, 4, 10, 2]\n",
      "[1, 2]\n",
      "[]\n",
      "[2]\n",
      "[5, 9, 8, 6, 7, 4, 10]\n",
      "[4]\n",
      "[9, 8, 6, 7, 10]\n",
      "[8, 6, 7]\n",
      "[6, 7]\n",
      "[]\n",
      "[7]\n",
      "[]\n",
      "[10]\n"
     ]
    },
    {
     "data": {
      "text/plain": [
       "[1, 2, 3, 4, 5, 6, 7, 8, 9, 10]"
      ]
     },
     "execution_count": 24,
     "metadata": {},
     "output_type": "execute_result"
    }
   ],
   "source": [
    "quickSort(li)"
   ]
  }
 ],
 "metadata": {
  "kernelspec": {
   "display_name": "Python 3",
   "language": "python",
   "name": "python3"
  },
  "language_info": {
   "codemirror_mode": {
    "name": "ipython",
    "version": 3
   },
   "file_extension": ".py",
   "mimetype": "text/x-python",
   "name": "python",
   "nbconvert_exporter": "python",
   "pygments_lexer": "ipython3",
   "version": "3.7.6"
  }
 },
 "nbformat": 4,
 "nbformat_minor": 4
}
