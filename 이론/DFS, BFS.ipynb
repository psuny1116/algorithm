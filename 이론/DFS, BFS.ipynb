{
 "cells": [
  {
   "cell_type": "markdown",
   "metadata": {},
   "source": [
    "# DFS\n",
    "* 그래프의 순회 방법 중 깊이를 우선으로 탐색하는 방법(depth first search)\n",
    "* 스택을 사용하여 구현\n",
    "* 그래프 탐색 시 대표적으로 사용하는 방법\n",
    "* [연결 리스트] graph = [ ~~~ ]\n",
    "* [시작] visited = [], stack = [ ~~~ ]\n",
    "* [반복] 스택의 마지막 값을 v에 저장 후 삭제 -> v를 방문 처리: visted에 v 추가 -> stack에 graph[v] 추가\n",
    "        - 스택의 마지막 값을 v에 저장 후 삭제 -> visited에 v가 존재하면 다음 단계로\n",
    "* [반복종료] 스택에 값이 없으면 반복 종료"
   ]
  },
  {
   "cell_type": "code",
   "execution_count": 1,
   "metadata": {},
   "outputs": [
    {
     "name": "stdout",
     "output_type": "stream",
     "text": [
      "[1, 7, 9, 5, 4, 2, 3, 8, 6]\n"
     ]
    }
   ],
   "source": [
    "# DFS\n",
    "# 값이 큰 노드부터 방문 시\n",
    "\n",
    "from collections import deque\n",
    "\n",
    "def dfs(graph, start):\n",
    "    visited = []\n",
    "    stack = deque([start])\n",
    "    \n",
    "    while stack:\n",
    "        v = stack.pop()\n",
    "        \n",
    "        if v not in visited:\n",
    "            visited.append(v)\n",
    "            stack.extend(graph[v])\n",
    "            \n",
    "    return visited\n",
    "\n",
    "graph = [[], [2, 4, 7], [1, 3], [2, 6, 8], [1], [7, 9], [3], [1, 5, 9], [3], [5, 7]]\n",
    "\n",
    "print(dfs(graph, 1))"
   ]
  },
  {
   "cell_type": "code",
   "execution_count": 2,
   "metadata": {},
   "outputs": [
    {
     "name": "stdout",
     "output_type": "stream",
     "text": [
      "[1, 2, 3, 6, 8, 4, 7, 5, 9]\n"
     ]
    }
   ],
   "source": [
    "# DFS\n",
    "# 값이 작은 노드부터 방문 시\n",
    "\n",
    "from collections import deque\n",
    "\n",
    "def dfs(graph, start):\n",
    "    visited = []\n",
    "    stack = deque([start])\n",
    "    \n",
    "    while stack:\n",
    "        v = stack.pop()\n",
    "        \n",
    "        if v not in visited:\n",
    "            visited.append(v)\n",
    "            stack.extend(reversed(graph[v]))\n",
    "            \n",
    "    return visited\n",
    "\n",
    "graph = [[], [2, 4, 7], [1, 3], [2, 6, 8], [1], [7, 9], [3], [1, 5, 9], [3], [5, 7]]\n",
    "\n",
    "print(dfs(graph, 1))"
   ]
  },
  {
   "cell_type": "markdown",
   "metadata": {},
   "source": [
    "# BFS\n",
    "* 그래프의 순회 방법 중 넓이를 우선으로 탐색하는 방법(breadth first search)\n",
    "* 큐를 사용하여 구현\n",
    "* 주로 최단 경로를 찾는 알고리즘에 활용\n",
    "* [연결 리스트] graph = [ ~~~ ]\n",
    "* [시작] visited = [], queue = [ ~~~ ]\n",
    "* [반복] 큐의 첫 번째 값을 v에 저장 후 삭제 -> v를 방문 처리: visited에 v 추가 -> queue에 graph[v] 추가\n",
    "        - 큐의 첫 번째 값을 v에 저장 후 삭제 -> visited에 v가 존재하면 다음 단계로\n",
    "* [반복종료] 큐에 값이 없으면 반복 종료"
   ]
  },
  {
   "cell_type": "code",
   "execution_count": 4,
   "metadata": {},
   "outputs": [
    {
     "name": "stdout",
     "output_type": "stream",
     "text": [
      "[1, 2, 4, 7, 3, 5, 9, 6, 8]\n"
     ]
    }
   ],
   "source": [
    "# BFS\n",
    "# 값이 작은 노드부터 방문 시\n",
    "\n",
    "from collections import deque\n",
    "\n",
    "def bfs(graph, start):\n",
    "    visited = []\n",
    "    queue = deque([start])\n",
    "    \n",
    "    while queue:\n",
    "        v = queue.popleft()     # 가장 첫 번째 값 삭제\n",
    "        \n",
    "        if v not in visited:\n",
    "            visited.append(v)\n",
    "            queue.extend(graph[v])\n",
    "            \n",
    "    return visited\n",
    "\n",
    "graph = [[], [2, 4, 7], [1, 3], [2, 6, 8], [1], [7, 9], [3], [1, 5, 9], [3], [5, 7]]\n",
    "\n",
    "print(bfs(graph, 1))"
   ]
  },
  {
   "cell_type": "code",
   "execution_count": 5,
   "metadata": {},
   "outputs": [
    {
     "name": "stdout",
     "output_type": "stream",
     "text": [
      "[1, 7, 4, 2, 9, 5, 3, 8, 6]\n"
     ]
    }
   ],
   "source": [
    "# BFS\n",
    "# 값이 큰 노드부터 방문 시\n",
    "\n",
    "from collections import deque\n",
    "\n",
    "def bfs(graph, start):\n",
    "    visited = []\n",
    "    queue = deque([start])\n",
    "    \n",
    "    while queue:\n",
    "        v = queue.popleft()\n",
    "        \n",
    "        if v not in visited:\n",
    "            visited.append(v)\n",
    "            queue.extend(reversed(graph[v]))\n",
    "            \n",
    "    return visited\n",
    "\n",
    "graph = [[], [2, 4, 7], [1, 3], [2, 6, 8], [1], [7, 9], [3], [1, 5, 9], [3], [5, 7]]\n",
    "\n",
    "print(bfs(graph, 1))"
   ]
  }
 ],
 "metadata": {
  "kernelspec": {
   "display_name": "Python 3",
   "language": "python",
   "name": "python3"
  },
  "language_info": {
   "codemirror_mode": {
    "name": "ipython",
    "version": 3
   },
   "file_extension": ".py",
   "mimetype": "text/x-python",
   "name": "python",
   "nbconvert_exporter": "python",
   "pygments_lexer": "ipython3",
   "version": "3.7.6"
  }
 },
 "nbformat": 4,
 "nbformat_minor": 4
}
