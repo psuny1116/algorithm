{
 "cells": [
  {
   "cell_type": "markdown",
   "metadata": {},
   "source": [
    "# 재귀 함수(recursion)\n",
    "* 함수 안에서 다시 자신의 함수를 호출하는 알고리즘\n",
    "* 일부 반복문을 대체하여 사용할 수 있지만 계산이 겹치는 경우에는 비효율적\n",
    "* 함수의 무한 호출을 막기 위해 종료 조건이 반드시 필요함(파이썬에서의 재귀 깊이 제한: 1000)\n",
    "* 재귀 함수 알고리즘이 적합한 문제\n",
    "    - 문제의 해결 방법이 반복되는 하위 부분 문제에 대해서도 함께 적용하는 경우(최적 부분 구조)"
   ]
  },
  {
   "cell_type": "markdown",
   "metadata": {},
   "source": [
    "# 유클리드 호제법\n",
    "* 두 수의 최대공약수(GCD) 구하기\n",
    "* 2개의 자연수 a, b와 (단, a > b) a를 b로 나눈 나머지가 r일 때, a와 b의 최대공약수는 b와 r의 최대공약수와 같다\n",
    "* a를 b로 나누어 떨어지면 b가 두 수의 최대공약수이다. 나누어 떨어지지 않으면 b와 r에 대해 같은 과정을 반복함\n",
    "    - a: 216, b: 60, r: a % b = 36\n",
    "    - a: 60, b: 36, r: a % b = 24\n",
    "    - a: 36, b: 24, r: a % b = 12\n",
    "    - a: 24, b: 12, r: a % b = 0\n",
    "* 재귀함수 알고리즘 확인\n",
    "    - 문제의 해결 방법이 반복되는 하위 부분 문제에 대해서도 함께 적용하는 경우(최적 부분 구조) = 충족"
   ]
  },
  {
   "cell_type": "code",
   "execution_count": 1,
   "metadata": {},
   "outputs": [
    {
     "name": "stdout",
     "output_type": "stream",
     "text": [
      "12\n"
     ]
    }
   ],
   "source": [
    "# 유클리드 호제법\n",
    "\n",
    "# while 반복문 이용해서 최대공약수 구하기\n",
    "\n",
    "def gcd_while(a, b):\n",
    "    if a < b:\n",
    "        a, b = b, a\n",
    "        \n",
    "    while True:\n",
    "        r = a % b\n",
    "        if r == 0:\n",
    "            return b\n",
    "        a = b\n",
    "        b = r\n",
    "        \n",
    "print(gcd_while(216, 60))"
   ]
  },
  {
   "cell_type": "code",
   "execution_count": 2,
   "metadata": {},
   "outputs": [
    {
     "name": "stdout",
     "output_type": "stream",
     "text": [
      "60 216\n",
      "216 60\n",
      "60 36\n",
      "36 24\n",
      "24 12\n",
      "12 0\n",
      "12\n"
     ]
    }
   ],
   "source": [
    "# 유클리드 호제법\n",
    "\n",
    "# 재귀 알고리즘 이용해서 최대공약수 구하기(효율 높음)\n",
    "\n",
    "def gcd_recursion(a, b):\n",
    "    print(a, b)     # 어떻게 작동하는지 확인\n",
    "    if b == 0:\n",
    "        return a\n",
    "    return gcd_recursion(b, a % b)\n",
    "\n",
    "print(gcd_recursion(60, 216))"
   ]
  }
 ],
 "metadata": {
  "kernelspec": {
   "display_name": "Python 3",
   "language": "python",
   "name": "python3"
  },
  "language_info": {
   "codemirror_mode": {
    "name": "ipython",
    "version": 3
   },
   "file_extension": ".py",
   "mimetype": "text/x-python",
   "name": "python",
   "nbconvert_exporter": "python",
   "pygments_lexer": "ipython3",
   "version": "3.7.6"
  }
 },
 "nbformat": 4,
 "nbformat_minor": 4
}
