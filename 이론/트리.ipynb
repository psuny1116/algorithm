{
 "cells": [
  {
   "cell_type": "markdown",
   "metadata": {},
   "source": [
    "# 트리(tree)\n",
    "* 트리: 그래프 중 노드가 단 하나의 부모에 의해서 참조되는 형태의 그래프(단방향, 비순환 그래프)\n",
    "* 부모 노드: 노드에서 자신을 참조할 수 있는 바로 위 상위 노드\n",
    "* 자식 노드: 부모 노드에 의해 참조되는 노드\n",
    "* 루트: 부모가 없는 최상위 노드로 트리 전체에서 단 하나만 존재"
   ]
  },
  {
   "cell_type": "markdown",
   "metadata": {},
   "source": [
    "# 이진 트리\n",
    "* 각 노드가 최대 두 개의 자식만을 가지는 트리 형태\n",
    "* 차수: 해당 노드가 가진 자식 노드의 수\n",
    "* 단말 노드: 자식 노드가 없는 마지막 노드\n",
    "* 루트 노드: 부모가 없는 최상위 노드\n",
    "* 부모 노드: 해당 노드를 참조할 수 있는 바로 위 상위 노드\n",
    "* 자식 노드: 부모 노드에 의해 참조되는 노드\n",
    "* 형제 노드: 부모가 같은 두 노드"
   ]
  },
  {
   "cell_type": "markdown",
   "metadata": {},
   "source": [
    "# 클래스 구현\n",
    "* class: 필요한 속성과 메소드를 포함하고 있는 데이터 타입(데이터의 패키지화)\n",
    "* _ _int__(): 클래스를 호출할 때 필요한 내용들을 정의(초기화 메소드)\n",
    "* self: 클래스 함수의 첫번째 인자로 자기 자신을 뜻하는 self가 사용됨\n",
    "* 인스턴스: 클래스를 실제로 사용하기 위해 생성한 객체"
   ]
  },
  {
   "cell_type": "markdown",
   "metadata": {},
   "source": [
    "# 이진트리 순회\n",
    "* 전위 순회: 노드 - 왼쪽 - 오른쪽\n",
    "* 중위 순회: 왼쪽 - 노드 - 오른쪽\n",
    "* 후위 순회: 왼쪽 - 오른쪽 - 노드"
   ]
  },
  {
   "cell_type": "code",
   "execution_count": 3,
   "metadata": {},
   "outputs": [
    {
     "name": "stdout",
     "output_type": "stream",
     "text": [
      "A B D E C F G \n",
      "D B E A F C G \n",
      "D E B F G C A "
     ]
    }
   ],
   "source": [
    "# 이진 노드 클래스\n",
    "# 전위 순회, 중위 순회, 후위 순회 함수\n",
    "# A ~ G 이진 노드 생성 후 순회\n",
    "\n",
    "class Node:\n",
    "    def __init__(self, value):\n",
    "        self.value = value\n",
    "        self.left = None\n",
    "        self.right = None\n",
    "\n",
    "# 전위 순회\n",
    "\n",
    "def preorder(node):\n",
    "    if node == None:\n",
    "        return\n",
    "    print(node.value, end = ' ')\n",
    "    preorder(node.left)\n",
    "    preorder(node.right)\n",
    "    \n",
    "# 중위 순회\n",
    "\n",
    "def inorder(node):\n",
    "    if node == None:\n",
    "        return\n",
    "    inorder(node.left)\n",
    "    print(node.value, end = ' ')\n",
    "    inorder(node.right)\n",
    "    \n",
    "# 후위 순회\n",
    "\n",
    "def postorder(node):\n",
    "    if node == None:\n",
    "        return\n",
    "    postorder(node.left)\n",
    "    postorder(node.right)\n",
    "    print(node.value, end = ' ')\n",
    "    \n",
    "node1 = Node('A')\n",
    "node2 = Node('B')\n",
    "node3 = Node('C')\n",
    "node4 = Node('D')\n",
    "node5 = Node('E')\n",
    "node6 = Node('F')\n",
    "node7 = Node('G')\n",
    "\n",
    "node1.left = node2\n",
    "node1.right = node3\n",
    "\n",
    "node2.left = node4\n",
    "node2.right = node5\n",
    "\n",
    "node3.left = node6\n",
    "node3.right = node7\n",
    "\n",
    "preorder(node1)     # 전위 순회\n",
    "print()\n",
    "inorder(node1)     # 중위 순회\n",
    "print()\n",
    "postorder(node1)     # 후위 순회"
   ]
  },
  {
   "cell_type": "markdown",
   "metadata": {},
   "source": [
    "# 이진 탐색 트리\n",
    "* Binary Search Tree(BST): 노드가 정렬된 순서를 유지하는 이진 트리\n",
    "* 각 노드의 왼쪽 하위 값은 모두 부모 노드 값보다 작고, 오른쪽 하위 값은 모두 부모 노드보다 큰 값으로 이루어져 있다\n",
    "* 데이터의 삽입, 검색에 효율적인 구조"
   ]
  },
  {
   "cell_type": "markdown",
   "metadata": {},
   "source": [
    "# BST - 데이터 삽입\n",
    "* [5, 3, 8, 2, 4, 6, 9, 1, 7] 차례대로 value 값 삽입(첫번째 값: 루트 노드)\n",
    "* 루트부터 현재 노드의 값과 value의 크기를 비교하여 left, right 노드로 이동(현재 노드 변경)\n",
    "* 더 이상 비교할 노드가 없다면 그 위치에 value 노드 생성"
   ]
  },
  {
   "cell_type": "markdown",
   "metadata": {},
   "source": [
    "# BST - 데이터 검색\n",
    "* [5, 3, 8, 2, 4, 6, 9, 1, 7] 차례대로 삽입된 상태에서 value 값 검색\n",
    "* 루트부터 현재 노드의 값과 value를 비교하여 같으면 True 리턴, 다르면 크기 비교 후 left, right 노드로 이동(현재 노드 변경)\n",
    "* 더 이상 비교할 노드가 없다면 False 리턴"
   ]
  },
  {
   "cell_type": "code",
   "execution_count": 5,
   "metadata": {},
   "outputs": [
    {
     "name": "stdout",
     "output_type": "stream",
     "text": [
      "True\n",
      "False\n",
      "5\n",
      "3\n",
      "8\n",
      "2\n",
      "4\n"
     ]
    }
   ],
   "source": [
    "# BST\n",
    "# 이진 노드 클래스\n",
    "\n",
    "class Node:\n",
    "    def __init__(self, value):\n",
    "        self.value = value\n",
    "        self.left = None\n",
    "        self.right = None\n",
    "        \n",
    "# 이진 탐색 트리 클래스\n",
    "\n",
    "class BST:\n",
    "    def __init__(self):\n",
    "        self.root = None\n",
    "        \n",
    "    def insert(self, value):\n",
    "        if self.root == None:\n",
    "            self.root = Node(value)\n",
    "            \n",
    "        else:\n",
    "            self.current_node = self.root\n",
    "            while True:\n",
    "                if value < self.current_node.value:\n",
    "                    if self.current_node.left == None:\n",
    "                        self.current_node.left = Node(value)\n",
    "                        break\n",
    "                        \n",
    "                    else:\n",
    "                        self.current_node = self.current_node.left\n",
    "                        \n",
    "                else:\n",
    "                    if self.current_node.right == None:\n",
    "                        self.current_node.right = Node(value)\n",
    "                        break\n",
    "                    else:\n",
    "                        self.current_node = self.current_node.right\n",
    "                        \n",
    "    def search(self, value):\n",
    "        if self.root == None:\n",
    "            return False\n",
    "        \n",
    "        else:\n",
    "            self.current_node = self.root\n",
    "            \n",
    "            while True:\n",
    "                if value == self.current_node.value:\n",
    "                    return True\n",
    "                \n",
    "                else:\n",
    "                    if value < self.current_node.value:\n",
    "                        if value == self.current_node.left:\n",
    "                            return True\n",
    "                        elif self.current_node.left == None:\n",
    "                            return False\n",
    "                        else:\n",
    "                            self.current_node = self.current_node.left\n",
    "                            \n",
    "                    else:\n",
    "                        if value == self.current_node.right:\n",
    "                            return True\n",
    "                        elif self.current_node.right == None:\n",
    "                            return False\n",
    "                        else:\n",
    "                            self.current_node = self.current_node.right\n",
    "                            \n",
    "# 노드 삽입\n",
    "\n",
    "bst = BST()\n",
    "li = [5, 3, 8, 2, 4, 6, 9, 1, 7]\n",
    "for i in li:\n",
    "    bst.insert(i)\n",
    "    \n",
    "# 노드 검색\n",
    "\n",
    "print(bst.search(6))\n",
    "print(bst.search(12))\n",
    "\n",
    "# 노드 값 접근\n",
    "\n",
    "print(bst.root.value)\n",
    "print(bst.root.left.value)\n",
    "print(bst.root.right.value)\n",
    "\n",
    "print(bst.root.left.left.value)\n",
    "print(bst.root.left.right.value)"
   ]
  }
 ],
 "metadata": {
  "kernelspec": {
   "display_name": "Python 3",
   "language": "python",
   "name": "python3"
  },
  "language_info": {
   "codemirror_mode": {
    "name": "ipython",
    "version": 3
   },
   "file_extension": ".py",
   "mimetype": "text/x-python",
   "name": "python",
   "nbconvert_exporter": "python",
   "pygments_lexer": "ipython3",
   "version": "3.7.6"
  }
 },
 "nbformat": 4,
 "nbformat_minor": 4
}
