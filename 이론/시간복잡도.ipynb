{
 "cells": [
  {
   "cell_type": "markdown",
   "metadata": {},
   "source": [
    "# 시간복잡도(알고리즘 복잡도 표현 방법)\n",
    "\n",
    "## 알고리즘 복잡도 계산 항목\n",
    "1. 시간 복잡도: 알고리즘 실행 속도\n",
    "2. 공간 복잡도: 알고리즘이 사용하는 메모리 사이즈\n",
    "3. 알고리즘 시간 복잡도의 주요 요소: 반복문(입력의 크기가 커지면 커질수록 반복문이 알고리즘 수행 시간을 지배함)\n",
    "\n",
    "## 알고리즘 성능 표기법\n",
    "- Big O(빅-오) 표기법: O(N)\n",
    "    - 알고리즘 최악의 실행 시간을 표기\n",
    "    - 가장 많이/일반적으로 사용함\n",
    "    - 아무리 최악의 상황이라도, 이정도의 성능은 보장한다는 의미이기 때문\n",
    "- 오메가 표기법: 알고리즘 최상의 실행 시간을 표기\n",
    "- 세타 표기법: 알고리즘 평균 실행 시간을 표기\n",
    "\n",
    "## Big 0 표기법\n",
    "- 대문자 O표기법, 빅오표기법\n",
    "- O(입력)\n",
    "    - 입력 n에 따라 결정되는 시간 복잡도 함수\n",
    "    - O(1), O(logn), O(n), O(nlogn), O($n^2$), O($2^n$), O(n!) 등으로 표기함\n",
    "    - 입력 n의 크기에 따라 기하급수적으로 시간 복잡도가 늘어날 수 있음\n",
    "        - O(1) < O(logn) < O(n) < O(nlogn) < O($n^2$) < O($2^n$) < O(n!)\n",
    "        - logn의 베이스는 2\n",
    "- 단순하게 입력 n에 따라, 몇번 실행이 되는지를 계산하면 됨\n",
    "- 표현식에 가장 큰 영향을 미치는 n의 단위로 표기\n",
    "- n이 1이든 100이든, 1000이든, 10000이든 실행을\n",
    "    - 무조건 2회(상수회)실행하면: O(1)\n",
    "        ```python\n",
    "        if n > 10:\n",
    "            print(n)\n",
    "        ```\n",
    "    - n에 따라 n번, n + 10번, 또는 3n + 10번 등 실행하면: O(n)\n",
    "        ```python\n",
    "        variable = 1\n",
    "        for num in range(3):\n",
    "            for index in range(n):\n",
    "                print(index)\n",
    "        ```\n",
    "    - n에 따라, $n^2$번, $n^2$ + 1000번, 100$n^2$ - 100번, 또는 300$n^2$ + 1번 등 실행하면: O($n^2$)\n",
    "        ```python\n",
    "        variable = 1\n",
    "        for i in range(300):\n",
    "            for num in range(n):\n",
    "                for index in range(n):\n",
    "                    print(index)\n",
    "        ```\n",
    "- 빅오 입력값 표기 방법 예\n",
    "    - 만약 시간 복잡도 함수가 2$n^2$ + 3n이라면\n",
    "        - 가장 높은 차수는 2$n^2$\n",
    "        - 상수는 실제 큰 영향이 없음\n",
    "        - 결국 빅오 표기법으로는 O($n^2$)"
   ]
  },
  {
   "cell_type": "markdown",
   "metadata": {},
   "source": [
    "#### cf. 마크다운 표기\n",
    "- $n^2$을 하려면 $ 앞뒤로 쓰고 n^2쓰면 됨\n",
    "- 코드 쓰려면 ```(1 옆에 있는 문자)앞뒤로 쓰고 python 쓰고 코드 쓰면 됨"
   ]
  },
  {
   "cell_type": "markdown",
   "metadata": {},
   "source": [
    "## 1부터 n까지의 합을 구하는 알고리즘으로 시간복잡도와 빅오 표기법 확인"
   ]
  },
  {
   "cell_type": "markdown",
   "metadata": {},
   "source": [
    "### 알고리즘1\n",
    "- 합을 기록할 변수를 만들고 0을 저장\n",
    "- n을 1부터 1씩 증가하면서 반복\n",
    "- 반복문 안에서 합을 기록할 변수에 1씩 증가된 값을 더함\n",
    "- 반복이 끝나면 합을 출력"
   ]
  },
  {
   "cell_type": "code",
   "execution_count": 1,
   "metadata": {},
   "outputs": [],
   "source": [
    "def sum_all(n):\n",
    "    total = 0\n",
    "    for num in range(1, n + 1):\n",
    "        total += num\n",
    "    return total"
   ]
  },
  {
   "cell_type": "code",
   "execution_count": 2,
   "metadata": {},
   "outputs": [
    {
     "data": {
      "text/plain": [
       "5050"
      ]
     },
     "execution_count": 2,
     "metadata": {},
     "output_type": "execute_result"
    }
   ],
   "source": [
    "sum_all(100)"
   ]
  },
  {
   "cell_type": "markdown",
   "metadata": {},
   "source": [
    "### 알고리즘1의 시간 복잡도\n",
    "- 입력 n에 따라 덧셈을 n번 해야 함(반복문)\n",
    "- 시간 복잡도: n, 빅오 표기법으로는 O(n)"
   ]
  },
  {
   "cell_type": "markdown",
   "metadata": {},
   "source": [
    "### 알고리즘2\n",
    "- n(n + 1) / 2"
   ]
  },
  {
   "cell_type": "code",
   "execution_count": 3,
   "metadata": {},
   "outputs": [],
   "source": [
    "def sum_all(n):\n",
    "    return int(n * (n + 1) / 2)"
   ]
  },
  {
   "cell_type": "code",
   "execution_count": 4,
   "metadata": {},
   "outputs": [
    {
     "data": {
      "text/plain": [
       "5050"
      ]
     },
     "execution_count": 4,
     "metadata": {},
     "output_type": "execute_result"
    }
   ],
   "source": [
    "sum_all(100)"
   ]
  },
  {
   "cell_type": "markdown",
   "metadata": {},
   "source": [
    "### 알고리즘2의 시간 복잡도\n",
    "- 입력 n이 어떻든 간에, 곱셈/덧셈/나눗셈 하면 됨(반복문 없음)\n",
    "- 시간 복잡도: 1, 빅오 표기법으로는 O(1)"
   ]
  },
  {
   "cell_type": "markdown",
   "metadata": {},
   "source": [
    "- 알고리즘 2의 성능이 더 좋음"
   ]
  },
  {
   "cell_type": "code",
   "execution_count": null,
   "metadata": {},
   "outputs": [],
   "source": []
  }
 ],
 "metadata": {
  "kernelspec": {
   "display_name": "Python 3",
   "language": "python",
   "name": "python3"
  },
  "language_info": {
   "codemirror_mode": {
    "name": "ipython",
    "version": 3
   },
   "file_extension": ".py",
   "mimetype": "text/x-python",
   "name": "python",
   "nbconvert_exporter": "python",
   "pygments_lexer": "ipython3",
   "version": "3.7.6"
  }
 },
 "nbformat": 4,
 "nbformat_minor": 4
}
