{
 "cells": [
  {
   "cell_type": "markdown",
   "metadata": {},
   "source": [
    "# 그래프(graph)"
   ]
  },
  {
   "cell_type": "markdown",
   "metadata": {},
   "source": [
    "## 그래프 정의\n",
    "* 그래프는 정점과 간선으로 구성된 비선형 자료구조\n",
    "* 방향 그래프: 간선이 방향을 가지는 그래프\n",
    "* 가중 그래프: 간선에 가중치를 부여한 그래프\n",
    "* 완전 그래프: 모든 정점이 연결된 그래프\n",
    "* 부분 그래프: 원본 그래프에서 일부 정점과 간선으로 이루어진 그래프"
   ]
  },
  {
   "cell_type": "markdown",
   "metadata": {},
   "source": [
    "## 그래프 용어\n",
    "* 노드: 그래프를 이루는 각각의 정점\n",
    "* 간선: 두 노드를 연결하는 선\n",
    "* 인접(이웃): 간선으로 연결된 노드\n",
    "* 차수: 한 노드에 이어져 있는 간선의 수\n",
    "* 입력 차수, 출력 차수: 유향 그래프에서의 차수"
   ]
  },
  {
   "cell_type": "markdown",
   "metadata": {},
   "source": [
    "## 그래프 표현\n",
    "* 그래프는 정점(vertex)과 간선(edge)으로 표현이 가능\n",
    "    - G = (V, E)\n",
    "    - V = {A, B, C, D}, E = {{A, B}, {A, C}, {A, D}, {B, D}}\n",
    "    \n",
    "    <br>\n",
    "    \n",
    "* 정점 A, B, C, D가 1, 2, 3, 4일 때, 중첩 리스트로 간선 정보 표현\n",
    "    - edge = [[1, 2], [1, 3], [1, 4], [2, 4]]\n",
    "    \n",
    "    <br>\n",
    "    \n",
    "* A, B, C, D 변수를 만들어 정점과 간선 표현\n",
    "    - A, B, C, D = range(1, 5)\n",
    "    - edge = [[A, B], [A, C], [A, D], [B, D]]"
   ]
  },
  {
   "cell_type": "code",
   "execution_count": 1,
   "metadata": {},
   "outputs": [
    {
     "name": "stdout",
     "output_type": "stream",
     "text": [
      "[[1, 2], [1, 3], [1, 4], [2, 4]]\n",
      "[[1, 2], [1, 3], [1, 4], [2, 4]]\n"
     ]
    }
   ],
   "source": [
    "# 그래프를 보고 직접 값을 넣을 때\n",
    "# 정점과 간선 표현\n",
    "\n",
    "edge1 = [[1, 2], [1, 3], [1, 4], [2, 4]]\n",
    "\n",
    "A, B, C, D = range(1, 5)\n",
    "edge2 = [[A, B], [A, C], [A, D], [B, D]]\n",
    "\n",
    "print(edge1)\n",
    "print(edge2)"
   ]
  },
  {
   "cell_type": "code",
   "execution_count": 2,
   "metadata": {},
   "outputs": [
    {
     "name": "stdout",
     "output_type": "stream",
     "text": [
      "node : 4\n",
      "edge : 4\n",
      "link1 : 1 2\n",
      "[[1, 2], [], [], []]\n",
      "link2 : 1 3\n",
      "[[1, 2], [1, 3], [], []]\n",
      "link3 : 1 4\n",
      "[[1, 2], [1, 3], [1, 4], []]\n",
      "link4 : 2 4\n",
      "[[1, 2], [1, 3], [1, 4], [2, 4]]\n",
      "[[1, 2], [1, 3], [1, 4], [2, 4]]\n"
     ]
    }
   ],
   "source": [
    "# 값을 사용자에게 입력 받을 때\n",
    "# 노드의 개수, 간선의 개수, 간선의 양 끝 노드\n",
    "# 정점과 간선 표현\n",
    "\n",
    "node = int(input('node : '))\n",
    "edge = int(input('edge : '))\n",
    "\n",
    "graph = [[] for i in range(edge)]\n",
    "\n",
    "for i in range(edge):\n",
    "    n1, n2 = map(int, input('link{} : '.format(i + 1)).split())\n",
    "    graph[i].append(n1)\n",
    "    graph[i].append(n2)\n",
    "    print(graph)\n",
    "    \n",
    "print(graph)"
   ]
  },
  {
   "cell_type": "markdown",
   "metadata": {},
   "source": [
    "# 인접 리스트(adjacency list)\n",
    "* 그래프의 연결 관계를 연결 리스트로 표현하는 방식(중첩리스트 또는 딕셔너리 사용)\n",
    "    - [[B, C, D], [A, D], [A], [A, B]]\n",
    "    - [[2, 3, 4], [1, 4], [1], [1, 2]]\n",
    "    - [{B:3, C:1, D:7}, {A:3, D:2}, {A:1}, {A:7, B:2}]\n",
    "    - [{2:3, 3:1, 4:7}, {1:3, 4:2}, {1:1}, {1:7, 2:2}]"
   ]
  },
  {
   "cell_type": "code",
   "execution_count": 3,
   "metadata": {},
   "outputs": [
    {
     "name": "stdout",
     "output_type": "stream",
     "text": [
      "True\n",
      "False\n",
      "3\n"
     ]
    }
   ],
   "source": [
    "# 인접 리스트\n",
    "# 그래프를 보고 직접 값을 넣을 때\n",
    "\n",
    "# 가중치 X - 리스트 사용\n",
    "# A = 1, B = 2, C = 3, D = 4\n",
    "\n",
    "adjacencyList = [[], [2, 3, 4], [1, 4], [1], [1, 2]]\n",
    "\n",
    "print(2 in adjacencyList[1])     # 1번과 2번 노드의 연결\n",
    "print(2 in adjacencyList[3])     # 3번과 2번 노드의 연결\n",
    "print(len(adjacencyList[1]))     # 1번 노드의 차수"
   ]
  },
  {
   "cell_type": "code",
   "execution_count": 5,
   "metadata": {},
   "outputs": [
    {
     "name": "stdout",
     "output_type": "stream",
     "text": [
      "True\n",
      "False\n",
      "3\n",
      "7\n"
     ]
    }
   ],
   "source": [
    "# 인접 리스트\n",
    "# 그래프를 보고 직접 값을 넣을 때\n",
    "\n",
    "# 가중치 O - 딕셔너리 사용\n",
    "# A, B, C, D\n",
    "\n",
    "A, B, C, D = range(1, 5)\n",
    "adjacencyList = [{}, {B:3, C:1, D:7}, {A:3, D:2}, {A:1}, {A:7, B:2}]\n",
    "\n",
    "print(B in adjacencyList[A])     # A와 B 노드의 연결\n",
    "print(B in adjacencyList[C])     # C와 B 노드의 연결\n",
    "print(len(adjacencyList[A]))     # A 노드의 차수\n",
    "print(adjacencyList[A][D])     # A와 D 노드의 가중치"
   ]
  },
  {
   "cell_type": "code",
   "execution_count": 6,
   "metadata": {},
   "outputs": [
    {
     "name": "stdout",
     "output_type": "stream",
     "text": [
      "node : 4\n",
      "edge : 4\n",
      "link1 : 1 2\n",
      "link2 : 1 3\n",
      "link3 : 1 4\n",
      "link4 : 2 4\n",
      "[[], [2, 3, 4], [1, 4], [1], [1, 2]]\n"
     ]
    }
   ],
   "source": [
    "# 인접 리스트\n",
    "# 값을 사용자에게 입력 받을 때\n",
    "\n",
    "# 가중치 X\n",
    "# 노드의 개수: 4, 간선의 개수: 4, 간선의 양 끝 노드: (1 2, 1 3, 1 4, 2 4)\n",
    "\n",
    "node = int(input('node : '))\n",
    "edge = int(input('edge : '))\n",
    "\n",
    "adjacencyList = [[] for i in range(node + 1)]\n",
    "\n",
    "for i in range(edge):\n",
    "    n1, n2 = map(int, input('link{} : '.format(i + 1)).split())\n",
    "    adjacencyList[n1].append(n2)\n",
    "    adjacencyList[n2].append(n1)\n",
    "    \n",
    "print(adjacencyList)"
   ]
  },
  {
   "cell_type": "code",
   "execution_count": 8,
   "metadata": {},
   "outputs": [
    {
     "name": "stdout",
     "output_type": "stream",
     "text": [
      "node : 4\n",
      "edge : 4\n",
      "link1 : 1 2 3\n",
      "link2 : 1 3 1\n",
      "link3 : 1 4 7\n",
      "link4 : 2 4 2\n",
      "[{}, {2: 3, 3: 1, 4: 7}, {1: 3, 4: 2}, {1: 1}, {1: 7, 2: 2}]\n"
     ]
    }
   ],
   "source": [
    "# 인접 리스트\n",
    "# 값을 사용자에게 입력 받을 때\n",
    "\n",
    "# 가중치 O\n",
    "# 노드의 개수: 4, 간선의 개수: 4, 간선의 양 끝 노드 + 가중치: ( 1 2 3, 1 3 1, 1 4 7, 2 4 2)\n",
    "\n",
    "node = int(input('node : '))\n",
    "edge = int(input('edge : '))\n",
    "\n",
    "adjacencyList = [{} for i in range(node + 1)]\n",
    "\n",
    "for i in range(edge):\n",
    "    n1, n2, value = map(int, input('link{} : '.format(i + 1)).split())\n",
    "    adjacencyList[n1][n2] = value\n",
    "    adjacencyList[n2][n1] = value\n",
    "    \n",
    "print(adjacencyList)"
   ]
  },
  {
   "cell_type": "markdown",
   "metadata": {},
   "source": [
    "# 인접 행렬(adjacency matrix)\n",
    "* 그래프의 연결 관계를 이차원 배열로 나타내는 방식(중첩리스트 사용)\n",
    "    - [[0, 1, 1, 1], [1, 0, 0, 1], [1, 0, 0, 0], [1, 1, 0, 0]]\n",
    "    - [[], [0, 0, 1, 1, 1], [0, 1, 0, 0, 1], [0, 1, 0, 0, 0], [0, 1, 1, 0, 0]]\n",
    "    - [[0, 3, 1, 7], [3, 0, 0, 2], [1, 0, 0, 0], [7, 2, 0, 0]]\n",
    "    - [[], [0, 0, 3, 1, 7], [0, 3, 0, 0, 2], [0, 1, 0, 0, 0], [0, 7, 2, 0, 0]]"
   ]
  },
  {
   "cell_type": "code",
   "execution_count": 10,
   "metadata": {},
   "outputs": [
    {
     "name": "stdout",
     "output_type": "stream",
     "text": [
      "True\n",
      "False\n",
      "3\n"
     ]
    }
   ],
   "source": [
    "# 인접 행렬\n",
    "# 그래프를 보고 직접 값을 넣을 때\n",
    "\n",
    "# 가중치 X - (0, 1로 표현)\n",
    "# A = 1, B = 2, C = 3, D = 4\n",
    "\n",
    "adjacencyMatrix = [[], [0, 0, 1, 1, 1], [0, 1, 0, 0, 1], [0, 1, 0, 0, 0], [0, 1, 1, 0, 0]]\n",
    "\n",
    "print(bool(adjacencyMatrix[1][2]))     # 1번과 2번 노드의 연결\n",
    "print(bool(adjacencyMatrix[2][3]))     # 2번과 3번 노드의 연결\n",
    "print(sum(adjacencyMatrix[1]))     # 1번 노드의 차수"
   ]
  },
  {
   "cell_type": "code",
   "execution_count": 11,
   "metadata": {},
   "outputs": [
    {
     "name": "stdout",
     "output_type": "stream",
     "text": [
      "True\n",
      "False\n",
      "3\n",
      "7\n"
     ]
    }
   ],
   "source": [
    "# 인접 행렬\n",
    "# 그래프를 보고 직접 값을 넣을 때\n",
    "\n",
    "# 가중치 O - (0, 가중치로 표현)\n",
    "# A, B, C, D\n",
    "\n",
    "A, B, C, D = range(1, 5)\n",
    "adjacencyMatrix = [[], [0, 0, 3, 1, 7], [0, 3, 0, 0, 2], [0, 1, 0, 0, 0], [0, 7, 2, 0, 0]]\n",
    "\n",
    "print(bool(adjacencyMatrix[B][A]))     # B와 A 노드의 연결\n",
    "print(bool(adjacencyMatrix[B][C]))     # B와 C 노드의 연결\n",
    "print(len(adjacencyMatrix[A]) - adjacencyMatrix[A].count(0))     # A 노드의 차수\n",
    "print(adjacencyMatrix[A][D])     # A와 D 노드의 가중치"
   ]
  },
  {
   "cell_type": "code",
   "execution_count": 12,
   "metadata": {},
   "outputs": [
    {
     "name": "stdout",
     "output_type": "stream",
     "text": [
      "node : 4\n",
      "edge : 4\n",
      "link1 : 1 2\n",
      "link2 : 1 3\n",
      "link3 : 1 4\n",
      "link4 : 2 4\n",
      "[[0, 0, 0, 0, 0], [0, 0, 1, 1, 1], [0, 1, 0, 0, 1], [0, 1, 0, 0, 0], [0, 1, 1, 0, 0]]\n"
     ]
    }
   ],
   "source": [
    "# 인접 행렬\n",
    "# 값을 사용자에게 입력 받을 때\n",
    "\n",
    "# 가중치 X\n",
    "# 노드의 개수: 4, 간선의 개수: 4, 간선의 양 끝 노드: (1 2, 1 3, 1 4, 2 4)\n",
    "\n",
    "node = int(input('node : '))\n",
    "edge = int(input('edge : '))\n",
    "\n",
    "adjacencyMatrix = [[0] * (node + 1) for i in range(node + 1)]\n",
    "\n",
    "for i in range(edge):\n",
    "    n1, n2 = map(int, input('link{} : '.format(i + 1)).split())\n",
    "    adjacencyMatrix[n1][n2] = 1\n",
    "    adjacencyMatrix[n2][n1] = 1\n",
    "    \n",
    "print(adjacencyMatrix)"
   ]
  },
  {
   "cell_type": "code",
   "execution_count": 13,
   "metadata": {},
   "outputs": [
    {
     "name": "stdout",
     "output_type": "stream",
     "text": [
      "node : 4\n",
      "edge : 4\n",
      "link1 : 1 2 3\n",
      "link2 : 1 3 1\n",
      "link3 : 1 4 7\n",
      "link4 : 2 4 2\n",
      "[[0, 0, 0, 0, 0], [0, 0, 3, 1, 7], [0, 3, 0, 0, 2], [0, 1, 0, 0, 0], [0, 7, 2, 0, 0]]\n"
     ]
    }
   ],
   "source": [
    "# 인접 행렬\n",
    "# 값을 사용자에게 입력 받을 때\n",
    "\n",
    "# 가중치 O\n",
    "# 노드의 개수: 4, 간선의 개수: 4, 간선의 양 끝 노드 + 가중치: (1 2 3, 1 3 1, 1 4 7, 2 4 2)\n",
    "\n",
    "node = int(input('node : '))\n",
    "edge = int(input('edge : '))\n",
    "\n",
    "adjacencyMatrix = [[0] * (node + 1) for i in range(node + 1)]\n",
    "\n",
    "for i in range(edge):\n",
    "    n1, n2, value = map(int, input('link{} : '.format(i + 1)).split())\n",
    "    adjacencyMatrix[n1][n2] = value\n",
    "    adjacencyMatrix[n2][n1] = value\n",
    "    \n",
    "print(adjacencyMatrix)"
   ]
  }
 ],
 "metadata": {
  "kernelspec": {
   "display_name": "Python 3",
   "language": "python",
   "name": "python3"
  },
  "language_info": {
   "codemirror_mode": {
    "name": "ipython",
    "version": 3
   },
   "file_extension": ".py",
   "mimetype": "text/x-python",
   "name": "python",
   "nbconvert_exporter": "python",
   "pygments_lexer": "ipython3",
   "version": "3.7.6"
  }
 },
 "nbformat": 4,
 "nbformat_minor": 4
}
