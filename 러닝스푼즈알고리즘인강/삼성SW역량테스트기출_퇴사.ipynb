{
 "cells": [
  {
   "cell_type": "markdown",
   "metadata": {},
   "source": [
    "# 입력: sys.stdin.readline()\n",
    "* 파이썬에서 기본 입력은 input()을 사용하지만 백준에서는 시간 초과가 발생할 수 있음<br>\n",
    "* 특히 반복 입력의 경우 시간 단축을 위해 sys.stdin.readline()을 사용(import sys)<br>\n",
    "* 입력 시 \\n(개행문자)가 함께 입력되기 때문에 split()을 사용하여 삭제<br>\n",
    "\n",
    "* 주피터노트북에서는 이 코드가 실행 안됨. 주피터노트북에서는 input() 사용<br>"
   ]
  },
  {
   "cell_type": "markdown",
   "metadata": {},
   "source": [
    "# 퇴사\n",
    "\n",
    "## 문제\n",
    "상담원으로 일하고 있는 백준이는 퇴사를 하려고 한다.<br>\n",
    "\n",
    "오늘부터 N+1일째 되는 날 퇴사를 하기 위해서, 남은 N일 동안 최대한 많은 상담을 하려고 한다.<br>\n",
    "\n",
    "백준이는 비서에게 최대한 많은 상담을 잡으라고 부탁을 했고, 비서는 하루에 하나씩 서로 다른 사람의 상담을 잡아놓았다.<br>\n",
    "\n",
    "각각의 상담은 상담을 완료하는데 걸리는 기간 Ti와 상담을 했을 때 받을 수 있는 금액 Pi로 이루어져 있다.<br>\n",
    "\n",
    "N = 7인 경우에 다음과 같은 상담 일정표를 보자.<br>\n",
    "\n",
    " \t1일\t2일\t3일\t4일\t5일\t6일\t7일\n",
    "Ti\t3\t5\t1\t1\t2\t4\t2<br>\n",
    "Pi\t10\t20\t10\t20\t15\t40\t200<br>\n",
    "1일에 잡혀있는 상담은 총 3일이 걸리며, 상담했을 때 받을 수 있는 금액은 10이다.<br>\n",
    "5일에 잡혀있는 상담은 총 2일이 걸리며, 받을 수 있는 금액은 15이다.<br>\n",
    "\n",
    "상담을 하는데 필요한 기간은 1일보다 클 수 있기 때문에, 모든 상담을 할 수는 없다.<br>\n",
    "예를 들어서 1일에 상담을 하게 되면, 2일, 3일에 있는 상담은 할 수 없게 된다.<br>\n",
    "2일에 있는 상담을 하게 되면, 3, 4, 5, 6일에 잡혀있는 상담은 할 수 없다.<br>\n",
    "\n",
    "또한, N+1일째에는 회사에 없기 때문에, 6, 7일에 있는 상담을 할 수 없다.<br>\n",
    "\n",
    "퇴사 전에 할 수 있는 상담의 최대 이익은 1일, 4일, 5일에 있는 상담을 하는 것이며, 이때의 이익은 10+20+15=45이다.<br>\n",
    "\n",
    "상담을 적절히 했을 때, 백준이가 얻을 수 있는 최대 수익을 구하는 프로그램을 작성하시오.<br>\n",
    "\n",
    "## 입력\n",
    "첫째 줄에 N (1 ≤ N ≤ 15)이 주어진다.<br>\n",
    "\n",
    "둘째 줄부터 N개의 줄에 Ti와 Pi가 공백으로 구분되어서 주어지며, 1일부터 N일까지 순서대로 주어진다. (1 ≤ Ti ≤ 5, 1 ≤ Pi ≤ 1,000)<br>\n",
    "\n",
    "## 출력\n",
    "첫째 줄에 백준이가 얻을 수 있는 최대 이익을 출력한다."
   ]
  },
  {
   "cell_type": "code",
   "execution_count": 2,
   "metadata": {},
   "outputs": [
    {
     "name": "stdout",
     "output_type": "stream",
     "text": [
      "7\n",
      "3 10\n",
      "5 20\n",
      "1 10\n",
      "1 20\n",
      "2 15\n",
      "4 40\n",
      "2 200\n",
      "45\n"
     ]
    }
   ],
   "source": [
    "#import sys\n",
    "#n = int(sys.stdin.readline())\n",
    "\n",
    "n = int(input())\n",
    "\n",
    "schedule = []\n",
    "\n",
    "for i in range(n):\n",
    "    #schedule.append(list(map(int, sys.stdin.readline().split())))\n",
    "    schedule.append(list(map(int, input().split())))\n",
    "    \n",
    "money = [0 for i in range(n + 1)]\n",
    "\n",
    "# for문을 사용하여 i -> range(n - 1, -1, -1) 반복\n",
    "\n",
    "for day in range(n - 1, -1, -1):\n",
    "    \n",
    "    # schedule[day]의 2개의 값을 time, pay에 각각 저장\n",
    "    \n",
    "    time, pay = schedule[day]\n",
    "    \n",
    "    # 남은 날짜 안에 오늘의 일을 할 수 있는지 검사\n",
    "    \n",
    "    # 가능 => 최대 금액 비교\n",
    "    if day + time <= n:\n",
    "        money[day] = max(pay + max(money[day + time:]), money[day + 1])\n",
    "        \n",
    "    # 불가능 => money[day] = 0\n",
    "    else:\n",
    "        money[day] = 0\n",
    "        \n",
    "print(max(money))"
   ]
  }
 ],
 "metadata": {
  "kernelspec": {
   "display_name": "Python 3",
   "language": "python",
   "name": "python3"
  },
  "language_info": {
   "codemirror_mode": {
    "name": "ipython",
    "version": 3
   },
   "file_extension": ".py",
   "mimetype": "text/x-python",
   "name": "python",
   "nbconvert_exporter": "python",
   "pygments_lexer": "ipython3",
   "version": "3.7.6"
  }
 },
 "nbformat": 4,
 "nbformat_minor": 4
}
