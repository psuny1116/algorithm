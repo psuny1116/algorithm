{
 "cells": [
  {
   "cell_type": "markdown",
   "metadata": {},
   "source": [
    "# 입력: sys.stdin.readline()\n",
    "* 파이썬에서 기본 입력은 input()을 사용하지만 백준에서는 시간 초과가 발생할 수 있음\n",
    "* 특히 반복 입력의 경우 시간 단축을 위해 sys.stdin.readline()을 사용(import sys)\n",
    "* 입력 시 \\n(개행문자)가 함께 입력되기 때문에 split()을 사용하여 삭제\n",
    "<br>\n",
    "\n",
    "* 주피터노트북에서는 이 코드가 실행 안됨. 주피터노트북에서는 input() 사용"
   ]
  },
  {
   "cell_type": "markdown",
   "metadata": {},
   "source": [
    "# 요세푸스 문제(문제번호: 11866)\n",
    "\n",
    "## 문제\n",
    "요세푸스 문제는 다음과 같다.<br>\n",
    "\n",
    "1번부터 N번까지 N명의 사람이 원을 이루면서 앉아있고, 양의 정수 K(≤ N)가 주어진다.<br>\n",
    "이제 순서대로 K번째 사람을 제거한다.<br>\n",
    "한 사람이 제거되면 남은 사람들로 이루어진 원을 따라 이 과정을 계속해 나간다.<br>\n",
    "이 과정은 N명의 사람이 모두 제거될 때까지 계속된다.<br>\n",
    "원에서 사람들이 제거되는 순서를 (N, K)-요세푸스 순열이라고 한다.<br>\n",
    "예를 들어 (7, 3)-요세푸스 순열은 <3, 6, 2, 7, 5, 1, 4>이다.<br>\n",
    "\n",
    "N과 K가 주어지면 (N, K)-요세푸스 순열을 구하는 프로그램을 작성하시오.<br>\n",
    "\n",
    "## 입력\n",
    "첫째 줄에 N과 K가 빈 칸을 사이에 두고 순서대로 주어진다. (1 ≤ K ≤ N ≤ 1,000)\n",
    "\n",
    "## 출력\n",
    "예제와 같이 요세푸스 순열을 출력한다."
   ]
  },
  {
   "cell_type": "code",
   "execution_count": 2,
   "metadata": {},
   "outputs": [
    {
     "name": "stdout",
     "output_type": "stream",
     "text": [
      "7 3\n",
      "<3, 6, 2, 7, 5, 1, 4>\n",
      "[3, 6, 2, 7, 5, 1, 4]\n"
     ]
    }
   ],
   "source": [
    "#import sys\n",
    "from collections import deque\n",
    "\n",
    "#n, k = map(int, sys.stdin.readline().split())\n",
    "n, k = map(int, input().split())\n",
    "que = deque([i for i in range(1, n + 1)])\n",
    "result = []\n",
    "\n",
    "while que:\n",
    "    for i in range(k - 1):\n",
    "        que.append(que.popleft())\n",
    "    result.append(que.popleft())\n",
    "    \n",
    "print('<', end = '')     # <3, 6, 2, 7, 5, 1, 4> 형식 맞추기 위한 프린트\n",
    "print(', '.join(map(str, result)), end = '')     # join()은 str에서만 쓸 수 있음\n",
    "print('>')\n",
    "print(result)     # 그냥 result 프린트 하면 [3, 6, 2, 7, 5, 1, 4] 이렇게 나옴"
   ]
  }
 ],
 "metadata": {
  "kernelspec": {
   "display_name": "Python 3",
   "language": "python",
   "name": "python3"
  },
  "language_info": {
   "codemirror_mode": {
    "name": "ipython",
    "version": 3
   },
   "file_extension": ".py",
   "mimetype": "text/x-python",
   "name": "python",
   "nbconvert_exporter": "python",
   "pygments_lexer": "ipython3",
   "version": "3.7.6"
  }
 },
 "nbformat": 4,
 "nbformat_minor": 4
}
