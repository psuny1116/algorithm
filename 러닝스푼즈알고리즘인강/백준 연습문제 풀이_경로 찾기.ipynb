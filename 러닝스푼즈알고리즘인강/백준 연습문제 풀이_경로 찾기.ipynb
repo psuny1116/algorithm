{
 "cells": [
  {
   "cell_type": "markdown",
   "metadata": {},
   "source": [
    "# 입력: sys.stdin.readline()\n",
    "* 파이썬에서 기본 입력은 input()을 사용하지만 백준에서는 시간 초과가 발생할 수 있음\n",
    "* 특히 반복 입력의 경우 시간 단축을 위해 sys.stdin.readline()을 사용(import sys)\n",
    "* 입력 시 \\n(개행문자)가 함께 입력되기 때문에 split()을 사용하여 삭제\n",
    "<br>\n",
    "\n",
    "* 주피터노트북에서는 이 코드가 실행 안됨. 주피터노트북에서는 input() 사용"
   ]
  },
  {
   "cell_type": "markdown",
   "metadata": {},
   "source": [
    "# 경로 찾기(문제번호: 11403)\n",
    "\n",
    "## 문제\n",
    "가중치 없는 방향 그래프 G가 주어졌을 때, 모든 정점 (i, j)에 대해서, i에서 j로 가는 경로가 있는지 없는지 구하는 프로그램을 작성하시오.\n",
    "\n",
    "## 입력\n",
    "첫째 줄에 정점의 개수 N (1 ≤ N ≤ 100)이 주어진다.<br>\n",
    "둘째 줄부터 N개 줄에는 그래프의 인접 행렬이 주어진다.<br>\n",
    "i번째 줄의 j번째 숫자가 1인 경우에는 i에서 j로 가는 간선이 존재한다는 뜻이고, 0인 경우는 없다는 뜻이다.<br>\n",
    "i번째 줄의 i번째 숫자는 항상 0이다.\n",
    "\n",
    "## 출력\n",
    "총 N개의 줄에 걸쳐서 문제의 정답을 인접행렬 형식으로 출력한다.<br>\n",
    "정점 i에서 j로 가는 경로가 있으면 i번째 줄의 j번째 숫자를 1로, 없으면 0으로 출력해야 한다."
   ]
  },
  {
   "cell_type": "code",
   "execution_count": 5,
   "metadata": {},
   "outputs": [
    {
     "name": "stdout",
     "output_type": "stream",
     "text": [
      "7\n",
      "0 0 0 1 0 0 0\n",
      "0 0 0 0 0 0 1\n",
      "0 0 0 0 0 0 0\n",
      "0 0 0 0 1 1 0\n",
      "1 0 0 0 0 0 0 \n",
      "0 0 0 0 0 0 1\n",
      "0 0 1 0 0 0 0\n",
      "1 0 1 1 1 1 1\n",
      "0 0 1 0 0 0 1\n",
      "0 0 0 0 0 0 0\n",
      "1 0 1 1 1 1 1\n",
      "1 0 1 1 1 1 1\n",
      "0 0 1 0 0 0 1\n",
      "0 0 1 0 0 0 0\n"
     ]
    }
   ],
   "source": [
    "#import sys\n",
    "\n",
    "def visit(start):\n",
    "    for target in range(1, n + 1):\n",
    "        if check[target] == 0 and matrix[start][target] == 1:\n",
    "            check[target] = 1\n",
    "            visit(target)\n",
    "            \n",
    "#n = int(sys.stdin.readline())\n",
    "n = int(input())\n",
    "check = []\n",
    "matrix = [[]]\n",
    "\n",
    "for i in range(1, n + 1):\n",
    "    #matrix.append([0] + list(map(int, sys.stdin.readline().split())))\n",
    "    matrix.append([0] + list(map(int, input().split())))\n",
    "    \n",
    "for i in range(1, n + 1):\n",
    "    check = [0 for i in range(n + 1)]\n",
    "    visit(i)\n",
    "    check.remove(0)\n",
    "    print(*check)"
   ]
  }
 ],
 "metadata": {
  "kernelspec": {
   "display_name": "Python 3",
   "language": "python",
   "name": "python3"
  },
  "language_info": {
   "codemirror_mode": {
    "name": "ipython",
    "version": 3
   },
   "file_extension": ".py",
   "mimetype": "text/x-python",
   "name": "python",
   "nbconvert_exporter": "python",
   "pygments_lexer": "ipython3",
   "version": "3.7.6"
  }
 },
 "nbformat": 4,
 "nbformat_minor": 4
}
