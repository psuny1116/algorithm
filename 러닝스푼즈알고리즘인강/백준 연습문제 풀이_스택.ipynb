{
 "cells": [
  {
   "cell_type": "markdown",
   "metadata": {},
   "source": [
    "# 입력: sys.stdin.readline()\n",
    "* 파이썬에서 기본 입력은 input()을 사용하지만 백준에서는 시간 초과가 발생할 수 있음\n",
    "* 특히 반복 입력의 경우 시간 단축을 위해 sys.stdin.readline()을 사용(import sys)\n",
    "* 입력 시 \\n(개행문자)가 함께 입력되기 때문에 split()을 사용하여 삭제\n",
    "<br>\n",
    "\n",
    "* 주피터노트북에서는 이 코드가 실행 안됨. 주피터노트북에서는 input() 사용"
   ]
  },
  {
   "cell_type": "markdown",
   "metadata": {},
   "source": [
    "# 스택(문제번호: 10828)\n",
    "\n",
    "## 문제\n",
    "정수를 저장하는 스택을 구현한 다음, 입력으로 주어지는 명령을 처리하는 프로그램을 작성하시오.<br>\n",
    "\n",
    "명령은 총 다섯 가지이다.<br>\n",
    "\n",
    "push X: 정수 X를 스택에 넣는 연산이다.<br>\n",
    "pop: 스택에서 가장 위에 있는 정수를 빼고, 그 수를 출력한다. 만약 스택에 들어있는 정수가 없는 경우에는 -1을 출력한다.<br>\n",
    "size: 스택에 들어있는 정수의 개수를 출력한다.<br>\n",
    "empty: 스택이 비어있으면 1, 아니면 0을 출력한다.<br>\n",
    "top: 스택의 가장 위에 있는 정수를 출력한다. 만약 스택에 들어있는 정수가 없는 경우에는 -1을 출력한다.<br>\n",
    "\n",
    "## 입력\n",
    "첫째 줄에 주어지는 명령의 수 N (1 ≤ N ≤ 10,000)이 주어진다.<br>\n",
    "둘째 줄부터 N개의 줄에는 명령이 하나씩 주어진다.<br>\n",
    "주어지는 정수는 1보다 크거나 같고, 100,000보다 작거나 같다.<br>\n",
    "문제에 나와있지 않은 명령이 주어지는 경우는 없다.\n",
    "\n",
    "## 출력\n",
    "출력해야하는 명령이 주어질 때마다, 한 줄에 하나씩 출력한다."
   ]
  },
  {
   "cell_type": "code",
   "execution_count": 8,
   "metadata": {},
   "outputs": [
    {
     "name": "stdout",
     "output_type": "stream",
     "text": [
      "7\n",
      "pop\n",
      "-1\n",
      "top\n",
      "-1\n",
      "push 123\n",
      "top\n",
      "123\n",
      "pop\n",
      "123\n",
      "top\n",
      "-1\n",
      "pop\n",
      "-1\n"
     ]
    }
   ],
   "source": [
    "#import sys\n",
    "#number = int(sys.stdin.readline())     \n",
    "\n",
    "number = int(input()) \n",
    "\n",
    "stack = []\n",
    "\n",
    "for i in range(number):\n",
    "    #text = sys.stdin.readline().strip()\n",
    "    text = input().strip()\n",
    "    \n",
    "    if text.split()[0] == 'push':\n",
    "        stack.append(text.split()[1])\n",
    "        \n",
    "    elif text == 'pop':\n",
    "        print(stack.pop() if stack else -1)     # stack에 값이 있으면 stack.pop() 없으면 -1\n",
    "        \n",
    "    elif text == 'size':\n",
    "        print(len(stack))\n",
    "        \n",
    "    elif text == 'empty':\n",
    "        print(0 if stack else 1)\n",
    "        \n",
    "    elif text == 'top':\n",
    "        print(stack[-1] if stack else -1)"
   ]
  }
 ],
 "metadata": {
  "kernelspec": {
   "display_name": "Python 3",
   "language": "python",
   "name": "python3"
  },
  "language_info": {
   "codemirror_mode": {
    "name": "ipython",
    "version": 3
   },
   "file_extension": ".py",
   "mimetype": "text/x-python",
   "name": "python",
   "nbconvert_exporter": "python",
   "pygments_lexer": "ipython3",
   "version": "3.7.6"
  }
 },
 "nbformat": 4,
 "nbformat_minor": 4
}
