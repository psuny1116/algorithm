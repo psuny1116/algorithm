{
 "cells": [
  {
   "cell_type": "markdown",
   "metadata": {},
   "source": [
    "# 입력: sys.stdin.readline()\n",
    "* 파이썬에서 기본 입력은 input()을 사용하지만 백준에서는 시간 초과가 발생할 수 있음\n",
    "* 특히 반복 입력의 경우 시간 단축을 위해 sys.stdin.readline()을 사용(import sys)\n",
    "* 입력 시 \\n(개행문자)가 함께 입력되기 때문에 split()을 사용하여 삭제\n",
    "<br>\n",
    "\n",
    "* 주피터노트북에서는 이 코드가 실행 안됨. 주피터노트북에서는 input() 사용"
   ]
  },
  {
   "cell_type": "markdown",
   "metadata": {},
   "source": [
    "# 하노이 탑 이동 순서(문제번호: 11729)\n",
    "\n",
    "## 문제\n",
    "세 개의 장대가 있고 첫 번째 장대에는 반경이 서로 다른 n개의 원판이 쌓여 있다.<br>\n",
    "각 원판은 반경이 큰 순서대로 쌓여있다.<br>\n",
    "이제 수도승들이 다음 규칙에 따라 첫 번째 장대에서 세 번째 장대로 옮기려 한다.<br>\n",
    "\n",
    "한 번에 한 개의 원판만을 다른 탑으로 옮길 수 있다.<br>\n",
    "쌓아 놓은 원판은 항상 위의 것이 아래의 것보다 작아야 한다.<br>\n",
    "이 작업을 수행하는데 필요한 이동 순서를 출력하는 프로그램을 작성하라. 단, 이동 횟수는 최소가 되어야 한다.<br>\n",
    "\n",
    "## 입력\n",
    "첫째 줄에 첫 번째 장대에 쌓인 원판의 개수 N (1 ≤ N ≤ 20)이 주어진다.\n",
    "\n",
    "## 출력\n",
    "첫째 줄에 옮긴 횟수 K를 출력한다.<br>\n",
    "\n",
    "두 번째 줄부터 수행 과정을 출력한다. <br>\n",
    "두 번째 줄부터 K개의 줄에 걸쳐 두 정수 A B를 빈칸을 사이에 두고 출력하는데, 이는 A번째 탑의 가장 위에 있는 원판을 B번째 탑의 가장 위로 옮긴다는 뜻이다."
   ]
  },
  {
   "cell_type": "markdown",
   "metadata": {},
   "source": [
    "* 옮긴 횟수 k = 2의 n제곱 - 1"
   ]
  },
  {
   "cell_type": "code",
   "execution_count": 2,
   "metadata": {},
   "outputs": [
    {
     "name": "stdout",
     "output_type": "stream",
     "text": [
      "3\n",
      "7\n",
      "1 3\n",
      "1 2\n",
      "3 2\n",
      "1 3\n",
      "2 1\n",
      "2 3\n",
      "1 3\n"
     ]
    }
   ],
   "source": [
    "#import sys\n",
    "\n",
    "def hanoi(n, bar1, bar2, bar3):     # bar1: 현재 bar, bar2: 보조 bar, bar3: 도착 bar\n",
    "    if n == 1:\n",
    "        print(bar1, bar3)\n",
    "    else:\n",
    "        hanoi(n - 1, bar1, bar3, bar2)\n",
    "        print(bar1, bar3)\n",
    "        hanoi(n - 1, bar2, bar1, bar3)\n",
    "        \n",
    "#n = int(sys.stdin.readline())\n",
    "n = int(input())\n",
    "\n",
    "k = 2 ** n - 1\n",
    "print(k)\n",
    "\n",
    "hanoi(n, 1, 2, 3)"
   ]
  }
 ],
 "metadata": {
  "kernelspec": {
   "display_name": "Python 3",
   "language": "python",
   "name": "python3"
  },
  "language_info": {
   "codemirror_mode": {
    "name": "ipython",
    "version": 3
   },
   "file_extension": ".py",
   "mimetype": "text/x-python",
   "name": "python",
   "nbconvert_exporter": "python",
   "pygments_lexer": "ipython3",
   "version": "3.7.6"
  }
 },
 "nbformat": 4,
 "nbformat_minor": 4
}
